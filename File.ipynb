{
 "cells": [
  {
   "cell_type": "code",
   "execution_count": 162,
   "id": "5d7c691f",
   "metadata": {},
   "outputs": [],
   "source": [
    "f = open('aron.txt','w')"
   ]
  },
  {
   "cell_type": "code",
   "execution_count": 163,
   "id": "a09f5b1c",
   "metadata": {},
   "outputs": [],
   "source": [
    "import os"
   ]
  },
  {
   "cell_type": "code",
   "execution_count": 164,
   "id": "5a8fb711",
   "metadata": {},
   "outputs": [
    {
     "data": {
      "text/plain": [
       "'/home/aron/Python'"
      ]
     },
     "execution_count": 164,
     "metadata": {},
     "output_type": "execute_result"
    }
   ],
   "source": [
    "os.getcwd()"
   ]
  },
  {
   "cell_type": "code",
   "execution_count": 165,
   "id": "b4ccdefd",
   "metadata": {},
   "outputs": [
    {
     "data": {
      "text/plain": [
       "23"
      ]
     },
     "execution_count": 165,
     "metadata": {},
     "output_type": "execute_result"
    }
   ],
   "source": [
    "f.write(r\"My name is AronShrestha\")"
   ]
  },
  {
   "cell_type": "code",
   "execution_count": 166,
   "id": "42e19482",
   "metadata": {},
   "outputs": [],
   "source": [
    "f.close()"
   ]
  },
  {
   "cell_type": "code",
   "execution_count": 167,
   "id": "95c5275e",
   "metadata": {},
   "outputs": [],
   "source": [
    "f = open('aron.txt')"
   ]
  },
  {
   "cell_type": "code",
   "execution_count": 168,
   "id": "95acb840",
   "metadata": {},
   "outputs": [
    {
     "data": {
      "text/plain": [
       "'My name is AronShrestha'"
      ]
     },
     "execution_count": 168,
     "metadata": {},
     "output_type": "execute_result"
    }
   ],
   "source": [
    "f.read()"
   ]
  },
  {
   "cell_type": "code",
   "execution_count": 169,
   "id": "0d4278dd",
   "metadata": {},
   "outputs": [
    {
     "data": {
      "text/plain": [
       "5"
      ]
     },
     "execution_count": 169,
     "metadata": {},
     "output_type": "execute_result"
    }
   ],
   "source": [
    "f.seek(5)"
   ]
  },
  {
   "cell_type": "code",
   "execution_count": 170,
   "id": "070abd48",
   "metadata": {},
   "outputs": [
    {
     "data": {
      "text/plain": [
       "'me is AronShrestha'"
      ]
     },
     "execution_count": 170,
     "metadata": {},
     "output_type": "execute_result"
    }
   ],
   "source": [
    "f.read()"
   ]
  },
  {
   "cell_type": "code",
   "execution_count": 171,
   "id": "ed4cb9cf",
   "metadata": {},
   "outputs": [
    {
     "data": {
      "text/plain": [
       "''"
      ]
     },
     "execution_count": 171,
     "metadata": {},
     "output_type": "execute_result"
    }
   ],
   "source": [
    "f.read()"
   ]
  },
  {
   "cell_type": "code",
   "execution_count": 172,
   "id": "972ceae2",
   "metadata": {},
   "outputs": [
    {
     "data": {
      "text/plain": [
       "2"
      ]
     },
     "execution_count": 172,
     "metadata": {},
     "output_type": "execute_result"
    }
   ],
   "source": [
    "f.seek(2)"
   ]
  },
  {
   "cell_type": "code",
   "execution_count": 173,
   "id": "04776670",
   "metadata": {},
   "outputs": [
    {
     "data": {
      "text/plain": [
       "' name is AronShrestha'"
      ]
     },
     "execution_count": 173,
     "metadata": {},
     "output_type": "execute_result"
    }
   ],
   "source": [
    "f.read()"
   ]
  },
  {
   "cell_type": "code",
   "execution_count": 174,
   "id": "769ce69c",
   "metadata": {},
   "outputs": [],
   "source": [
    "f =open('aron.txt','r')\n"
   ]
  },
  {
   "cell_type": "code",
   "execution_count": 175,
   "id": "2d20b81c",
   "metadata": {},
   "outputs": [
    {
     "ename": "UnsupportedOperation",
     "evalue": "not writable",
     "output_type": "error",
     "traceback": [
      "\u001b[0;31m---------------------------------------------------------------------------\u001b[0m",
      "\u001b[0;31mUnsupportedOperation\u001b[0m                      Traceback (most recent call last)",
      "\u001b[0;32m/tmp/ipykernel_4098/3732759884.py\u001b[0m in \u001b[0;36m<module>\u001b[0;34m\u001b[0m\n\u001b[0;32m----> 1\u001b[0;31m \u001b[0mf\u001b[0m\u001b[0;34m.\u001b[0m\u001b[0mwrite\u001b[0m\u001b[0;34m(\u001b[0m\u001b[0;34m\"sdjfildf;\"\u001b[0m\u001b[0;34m)\u001b[0m\u001b[0;34m\u001b[0m\u001b[0;34m\u001b[0m\u001b[0m\n\u001b[0m",
      "\u001b[0;31mUnsupportedOperation\u001b[0m: not writable"
     ]
    }
   ],
   "source": [
    "f.write(\"sdjfildf;\")"
   ]
  },
  {
   "cell_type": "code",
   "execution_count": 186,
   "id": "5037b84e",
   "metadata": {},
   "outputs": [
    {
     "ename": "ValueError",
     "evalue": "I/O operation on closed file.",
     "output_type": "error",
     "traceback": [
      "\u001b[0;31m---------------------------------------------------------------------------\u001b[0m",
      "\u001b[0;31mValueError\u001b[0m                                Traceback (most recent call last)",
      "\u001b[0;32m/tmp/ipykernel_4098/3059900045.py\u001b[0m in \u001b[0;36m<module>\u001b[0;34m\u001b[0m\n\u001b[0;32m----> 1\u001b[0;31m \u001b[0mf\u001b[0m\u001b[0;34m.\u001b[0m\u001b[0mread\u001b[0m\u001b[0;34m(\u001b[0m\u001b[0;34m)\u001b[0m\u001b[0;34m\u001b[0m\u001b[0;34m\u001b[0m\u001b[0m\n\u001b[0m",
      "\u001b[0;31mValueError\u001b[0m: I/O operation on closed file."
     ]
    }
   ],
   "source": [
    "f.read()"
   ]
  },
  {
   "cell_type": "code",
   "execution_count": 187,
   "id": "c1b9f3e1",
   "metadata": {},
   "outputs": [],
   "source": [
    "f.close()"
   ]
  },
  {
   "cell_type": "code",
   "execution_count": 188,
   "id": "8d643841",
   "metadata": {},
   "outputs": [],
   "source": [
    "f = open('aron.txt','a')"
   ]
  },
  {
   "cell_type": "code",
   "execution_count": 189,
   "id": "294e7117",
   "metadata": {},
   "outputs": [
    {
     "data": {
      "text/plain": [
       "10"
      ]
     },
     "execution_count": 189,
     "metadata": {},
     "output_type": "execute_result"
    }
   ],
   "source": [
    "f.write(\"9814356151\")"
   ]
  },
  {
   "cell_type": "code",
   "execution_count": 190,
   "id": "a7d8402b",
   "metadata": {},
   "outputs": [],
   "source": [
    "f.close()"
   ]
  },
  {
   "cell_type": "code",
   "execution_count": 191,
   "id": "294ae80e",
   "metadata": {},
   "outputs": [],
   "source": [
    "f = open('aron.txt','r')"
   ]
  },
  {
   "cell_type": "code",
   "execution_count": 192,
   "id": "e262deae",
   "metadata": {},
   "outputs": [
    {
     "name": "stdout",
     "output_type": "stream",
     "text": [
      "1\n",
      "My name is AronShrestha9814356151\n"
     ]
    }
   ],
   "source": [
    "for i in  f:\n",
    "    print(\"1\")\n",
    "    print(i)"
   ]
  },
  {
   "cell_type": "code",
   "execution_count": 193,
   "id": "b1bc8a52",
   "metadata": {},
   "outputs": [],
   "source": [
    "f.close()"
   ]
  },
  {
   "cell_type": "code",
   "execution_count": 194,
   "id": "4a8c4ff7",
   "metadata": {},
   "outputs": [],
   "source": [
    "f = open('aron.txt','r')"
   ]
  },
  {
   "cell_type": "code",
   "execution_count": 195,
   "id": "25df096a",
   "metadata": {},
   "outputs": [
    {
     "data": {
      "text/plain": [
       "['My name is AronShrestha9814356151']"
      ]
     },
     "execution_count": 195,
     "metadata": {},
     "output_type": "execute_result"
    }
   ],
   "source": [
    "list(f)"
   ]
  },
  {
   "cell_type": "code",
   "execution_count": 196,
   "id": "ac599076",
   "metadata": {},
   "outputs": [],
   "source": [
    "#for read and write both\n",
    "f = open('aron.txt','r+')"
   ]
  },
  {
   "cell_type": "code",
   "execution_count": 197,
   "id": "bc4a6533",
   "metadata": {},
   "outputs": [
    {
     "data": {
      "text/plain": [
       "6"
      ]
     },
     "execution_count": 197,
     "metadata": {},
     "output_type": "execute_result"
    }
   ],
   "source": [
    "f.write(\"AAAAAA\")"
   ]
  },
  {
   "cell_type": "code",
   "execution_count": 198,
   "id": "99372d4f",
   "metadata": {},
   "outputs": [
    {
     "data": {
      "text/plain": [
       "'e is AronShrestha9814356151'"
      ]
     },
     "execution_count": 198,
     "metadata": {},
     "output_type": "execute_result"
    }
   ],
   "source": [
    "f.read()"
   ]
  },
  {
   "cell_type": "code",
   "execution_count": 199,
   "id": "39c78326",
   "metadata": {},
   "outputs": [
    {
     "data": {
      "text/plain": [
       "'/home/aron/Python/Assignment'"
      ]
     },
     "execution_count": 199,
     "metadata": {},
     "output_type": "execute_result"
    }
   ],
   "source": [
    "pwd()"
   ]
  },
  {
   "cell_type": "code",
   "execution_count": 200,
   "id": "fd647a38",
   "metadata": {},
   "outputs": [
    {
     "data": {
      "text/plain": [
       "'/home/aron/Python/Assignment'"
      ]
     },
     "execution_count": 200,
     "metadata": {},
     "output_type": "execute_result"
    }
   ],
   "source": [
    "os.getcwd()"
   ]
  },
  {
   "cell_type": "code",
   "execution_count": 201,
   "id": "14717863",
   "metadata": {},
   "outputs": [],
   "source": [
    "a = os.listdir()"
   ]
  },
  {
   "cell_type": "code",
   "execution_count": 202,
   "id": "edbf3b95",
   "metadata": {},
   "outputs": [
    {
     "name": "stdout",
     "output_type": "stream",
     "text": [
      "['file_5.txt', 'file_9.txt', 'file_6.txt', 'file_2.txt', 'file_3.txt', 'file_1.txt', 'file_0.txt', 'file_4.txt', 'new.txt', 'file_7.txt', 'file_8.txt', 'aron.txt']\n",
      "['file_5.txt', 'file_9.txt', 'file_6.txt', 'file_2.txt', 'file_3.txt', 'file_1.txt', 'file_0.txt', 'file_4.txt', 'new.txt', 'file_7.txt', 'file_8.txt', 'aron.txt']\n",
      "['file_5.txt', 'file_9.txt', 'file_6.txt', 'file_2.txt', 'file_3.txt', 'file_1.txt', 'file_0.txt', 'file_4.txt', 'new.txt', 'file_7.txt', 'file_8.txt', 'aron.txt']\n",
      "['file_5.txt', 'file_9.txt', 'file_6.txt', 'file_2.txt', 'file_3.txt', 'file_1.txt', 'file_0.txt', 'file_4.txt', 'new.txt', 'file_7.txt', 'file_8.txt', 'aron.txt']\n",
      "['file_5.txt', 'file_9.txt', 'file_6.txt', 'file_2.txt', 'file_3.txt', 'file_1.txt', 'file_0.txt', 'file_4.txt', 'new.txt', 'file_7.txt', 'file_8.txt', 'aron.txt']\n",
      "['file_5.txt', 'file_9.txt', 'file_6.txt', 'file_2.txt', 'file_3.txt', 'file_1.txt', 'file_0.txt', 'file_4.txt', 'new.txt', 'file_7.txt', 'file_8.txt', 'aron.txt']\n",
      "['file_5.txt', 'file_9.txt', 'file_6.txt', 'file_2.txt', 'file_3.txt', 'file_1.txt', 'file_0.txt', 'file_4.txt', 'new.txt', 'file_7.txt', 'file_8.txt', 'aron.txt']\n",
      "['file_5.txt', 'file_9.txt', 'file_6.txt', 'file_2.txt', 'file_3.txt', 'file_1.txt', 'file_0.txt', 'file_4.txt', 'new.txt', 'file_7.txt', 'file_8.txt', 'aron.txt']\n",
      "['file_5.txt', 'file_9.txt', 'file_6.txt', 'file_2.txt', 'file_3.txt', 'file_1.txt', 'file_0.txt', 'file_4.txt', 'new.txt', 'file_7.txt', 'file_8.txt', 'aron.txt']\n",
      "['file_5.txt', 'file_9.txt', 'file_6.txt', 'file_2.txt', 'file_3.txt', 'file_1.txt', 'file_0.txt', 'file_4.txt', 'new.txt', 'file_7.txt', 'file_8.txt', 'aron.txt']\n",
      "['file_5.txt', 'file_9.txt', 'file_6.txt', 'file_2.txt', 'file_3.txt', 'file_1.txt', 'file_0.txt', 'file_4.txt', 'new.txt', 'file_7.txt', 'file_8.txt', 'aron.txt']\n",
      "['file_5.txt', 'file_9.txt', 'file_6.txt', 'file_2.txt', 'file_3.txt', 'file_1.txt', 'file_0.txt', 'file_4.txt', 'new.txt', 'file_7.txt', 'file_8.txt', 'aron.txt']\n"
     ]
    }
   ],
   "source": [
    "for i in a:\n",
    "    print(a)"
   ]
  },
  {
   "cell_type": "code",
   "execution_count": 220,
   "id": "0442c794",
   "metadata": {},
   "outputs": [
    {
     "data": {
      "text/plain": [
       "['aron']"
      ]
     },
     "execution_count": 220,
     "metadata": {},
     "output_type": "execute_result"
    }
   ],
   "source": [
    "os.listdir('/home')"
   ]
  },
  {
   "cell_type": "code",
   "execution_count": 221,
   "id": "891ae6bc",
   "metadata": {},
   "outputs": [],
   "source": [
    "os.chdir('/home')"
   ]
  },
  {
   "cell_type": "code",
   "execution_count": 222,
   "id": "1573ccfc",
   "metadata": {},
   "outputs": [
    {
     "data": {
      "text/plain": [
       "'/home'"
      ]
     },
     "execution_count": 222,
     "metadata": {},
     "output_type": "execute_result"
    }
   ],
   "source": [
    "pwd()"
   ]
  },
  {
   "cell_type": "code",
   "execution_count": 223,
   "id": "6fcec693",
   "metadata": {},
   "outputs": [],
   "source": [
    "os.chdir('/home/aron/Python')"
   ]
  },
  {
   "cell_type": "code",
   "execution_count": 224,
   "id": "94c3946c",
   "metadata": {},
   "outputs": [
    {
     "data": {
      "text/plain": [
       "'/home/aron/Python'"
      ]
     },
     "execution_count": 224,
     "metadata": {},
     "output_type": "execute_result"
    }
   ],
   "source": [
    "pwd()"
   ]
  },
  {
   "cell_type": "code",
   "execution_count": null,
   "id": "9820e739",
   "metadata": {},
   "outputs": [],
   "source": []
  },
  {
   "cell_type": "code",
   "execution_count": 225,
   "id": "52a1af6c",
   "metadata": {},
   "outputs": [
    {
     "name": "stdout",
     "output_type": "stream",
     "text": [
      "Sorry file is not present\n"
     ]
    }
   ],
   "source": [
    "if 'aron.txt' in os.listdir():\n",
    "    print(\"This file is available\")\n",
    "    print(\"rEADING DATA\")\n",
    "    f = open('aron.txt','r+')\n",
    "    for i in f:\n",
    "        print(i)\n",
    "   \n",
    "else:\n",
    "    print(\"Sorry file is not present\")"
   ]
  },
  {
   "cell_type": "code",
   "execution_count": 226,
   "id": "490d6a00",
   "metadata": {},
   "outputs": [
    {
     "data": {
      "text/plain": [
       "''"
      ]
     },
     "execution_count": 226,
     "metadata": {},
     "output_type": "execute_result"
    }
   ],
   "source": [
    "f.read()"
   ]
  },
  {
   "cell_type": "code",
   "execution_count": 227,
   "id": "4c2c4576",
   "metadata": {},
   "outputs": [
    {
     "data": {
      "text/plain": [
       "1"
      ]
     },
     "execution_count": 227,
     "metadata": {},
     "output_type": "execute_result"
    }
   ],
   "source": [
    "f.seek(1)"
   ]
  },
  {
   "cell_type": "code",
   "execution_count": 228,
   "id": "01f79d2f",
   "metadata": {},
   "outputs": [
    {
     "data": {
      "text/plain": [
       "'y name is AronShrestha'"
      ]
     },
     "execution_count": 228,
     "metadata": {},
     "output_type": "execute_result"
    }
   ],
   "source": [
    "f.read()"
   ]
  },
  {
   "cell_type": "code",
   "execution_count": null,
   "id": "c6afd18c",
   "metadata": {},
   "outputs": [],
   "source": []
  },
  {
   "cell_type": "code",
   "execution_count": 230,
   "id": "f848e752",
   "metadata": {},
   "outputs": [],
   "source": [
    "# os.rename('aron.txt','aro.txt')"
   ]
  },
  {
   "cell_type": "code",
   "execution_count": 231,
   "id": "27ca12e6",
   "metadata": {},
   "outputs": [
    {
     "data": {
      "text/plain": [
       "'/home/aron/Python'"
      ]
     },
     "execution_count": 231,
     "metadata": {},
     "output_type": "execute_result"
    }
   ],
   "source": [
    "pwd"
   ]
  },
  {
   "cell_type": "code",
   "execution_count": null,
   "id": "a5f66b71",
   "metadata": {},
   "outputs": [],
   "source": []
  },
  {
   "cell_type": "code",
   "execution_count": null,
   "id": "5a0043ff",
   "metadata": {},
   "outputs": [],
   "source": []
  },
  {
   "cell_type": "code",
   "execution_count": 232,
   "id": "2f5e5592",
   "metadata": {},
   "outputs": [],
   "source": [
    "os.chdir('Assignment')"
   ]
  },
  {
   "cell_type": "code",
   "execution_count": 233,
   "id": "92f03335",
   "metadata": {},
   "outputs": [
    {
     "data": {
      "text/plain": [
       "'/home/aron/Python/Assignment'"
      ]
     },
     "execution_count": 233,
     "metadata": {},
     "output_type": "execute_result"
    }
   ],
   "source": [
    "pwd"
   ]
  },
  {
   "cell_type": "code",
   "execution_count": 234,
   "id": "c9099723",
   "metadata": {},
   "outputs": [],
   "source": [
    "for i in range(10):\n",
    "    f = open(f'file_{i}.txt','w')\n",
    "    f.write(\"Contrary to popular belief, Lorem Ipsum is not simply random text. It has roots in a piece of classical Latin literature from 45 BC, making it over 2000 years old. Richard McClintock, a Latin professor at Hampden-Sydney College in Virginia, looked up one of the more obscure Latin words, consectetur, from a Lorem Ipsum passage, and going through the cites of the word in classical literature, discovered the undoubtable source. Lorem Ipsum comes from sections 1.10.32 and 1.10.33 of (The Extremes of Good and Evil) by Cicero, written in 45 BC. This book is a treatise on the theory of ethics, very popular during the Renaissance. The first line of Lorem Ipsum, omes from a line in section 1.10.32.\")\n",
    "    f.close()"
   ]
  },
  {
   "cell_type": "code",
   "execution_count": 235,
   "id": "fa4aff57",
   "metadata": {},
   "outputs": [
    {
     "data": {
      "text/plain": [
       "['file_5.txt',\n",
       " 'file_9.txt',\n",
       " 'file_6.txt',\n",
       " 'file_2.txt',\n",
       " 'file_3.txt',\n",
       " 'file_1.txt',\n",
       " 'file_0.txt',\n",
       " 'file_4.txt',\n",
       " 'new.txt',\n",
       " 'file_7.txt',\n",
       " 'file_8.txt',\n",
       " 'aron.txt']"
      ]
     },
     "execution_count": 235,
     "metadata": {},
     "output_type": "execute_result"
    }
   ],
   "source": [
    "os.listdir()"
   ]
  },
  {
   "cell_type": "code",
   "execution_count": 236,
   "id": "dc7f89fc",
   "metadata": {},
   "outputs": [],
   "source": [
    "for i in os.listdir():\n",
    "    f= open(str(i),'r')\n"
   ]
  },
  {
   "cell_type": "code",
   "execution_count": 237,
   "id": "97b6a568",
   "metadata": {},
   "outputs": [],
   "source": [
    "f.close()"
   ]
  },
  {
   "cell_type": "code",
   "execution_count": 238,
   "id": "020e129a",
   "metadata": {},
   "outputs": [],
   "source": [
    "l =[]\n",
    "for i in os.listdir():\n",
    "    f= open(str(i),'r')\n",
    "  \n",
    "    for i in f:\n",
    "  \n",
    "        l.append(i)"
   ]
  },
  {
   "cell_type": "code",
   "execution_count": 245,
   "id": "04451eb4",
   "metadata": {},
   "outputs": [
    {
     "data": {
      "text/plain": [
       "'/home/aron/Python/aron.txt'"
      ]
     },
     "execution_count": 245,
     "metadata": {},
     "output_type": "execute_result"
    }
   ],
   "source": [
    "pwd"
   ]
  },
  {
   "cell_type": "code",
   "execution_count": 246,
   "id": "d4a05f99",
   "metadata": {},
   "outputs": [],
   "source": [
    "f = open('new.txt','a')\n",
    "for i in l:\n",
    "\n",
    "    f.write(i)\n",
    "f.close()"
   ]
  },
  {
   "cell_type": "code",
   "execution_count": 247,
   "id": "ea137107",
   "metadata": {},
   "outputs": [
    {
     "name": "stdout",
     "output_type": "stream",
     "text": [
      "new file\n"
     ]
    }
   ],
   "source": [
    "import shutil\n",
    "for i in os.listdir():\n",
    "    if i == 'new.txt':\n",
    "        print('new file')\n",
    "    else:\n",
    "            shutil.move(os.getcwd(),f'/home/aron/Python/{i}')"
   ]
  },
  {
   "cell_type": "code",
   "execution_count": 241,
   "id": "aae22c96",
   "metadata": {},
   "outputs": [
    {
     "data": {
      "text/plain": [
       "'/home/aron/Python/Assignment'"
      ]
     },
     "execution_count": 241,
     "metadata": {},
     "output_type": "execute_result"
    }
   ],
   "source": [
    "pwd"
   ]
  },
  {
   "cell_type": "code",
   "execution_count": 243,
   "id": "2c395545",
   "metadata": {},
   "outputs": [
    {
     "data": {
      "text/plain": [
       "'/home/aron/Python/Assignment'"
      ]
     },
     "execution_count": 243,
     "metadata": {},
     "output_type": "execute_result"
    }
   ],
   "source": [
    "os.getcwd()"
   ]
  },
  {
   "cell_type": "code",
   "execution_count": null,
   "id": "93a36b3e",
   "metadata": {},
   "outputs": [],
   "source": []
  },
  {
   "cell_type": "code",
   "execution_count": null,
   "id": "1576f157",
   "metadata": {},
   "outputs": [],
   "source": []
  }
 ],
 "metadata": {
  "kernelspec": {
   "display_name": "Python 3 (ipykernel)",
   "language": "python",
   "name": "python3"
  },
  "language_info": {
   "codemirror_mode": {
    "name": "ipython",
    "version": 3
   },
   "file_extension": ".py",
   "mimetype": "text/x-python",
   "name": "python",
   "nbconvert_exporter": "python",
   "pygments_lexer": "ipython3",
   "version": "3.9.7"
  }
 },
 "nbformat": 4,
 "nbformat_minor": 5
}
