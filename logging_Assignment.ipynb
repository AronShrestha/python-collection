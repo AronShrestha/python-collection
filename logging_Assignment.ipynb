{
 "cells": [
  {
   "cell_type": "code",
   "execution_count": 1,
   "id": "c735b285",
   "metadata": {},
   "outputs": [],
   "source": [
    "import logging as lg\n",
    "import os"
   ]
  },
  {
   "cell_type": "code",
   "execution_count": 2,
   "id": "9b916267",
   "metadata": {},
   "outputs": [],
   "source": [
    "lg.basicConfig(filename='logshet.log',level=lg.INFO)"
   ]
  },
  {
   "cell_type": "code",
   "execution_count": 4,
   "id": "600bdebd",
   "metadata": {},
   "outputs": [],
   "source": [
    "def sum(*args):\n",
    "    sum =0 \n",
    "    for i in args:\n",
    "        lg.info(i)\n",
    "        sum += i\n",
    "    return sum\n",
    "        "
   ]
  },
  {
   "cell_type": "code",
   "execution_count": 5,
   "id": "8ae6a0cb",
   "metadata": {},
   "outputs": [
    {
     "name": "stdout",
     "output_type": "stream",
     "text": [
      "21\n"
     ]
    }
   ],
   "source": [
    "print(sum(1,2,3,4,5,6))"
   ]
  },
  {
   "cell_type": "code",
   "execution_count": 8,
   "id": "cf01a55e",
   "metadata": {},
   "outputs": [
    {
     "name": "stdout",
     "output_type": "stream",
     "text": [
      "INFO:root:1\n",
      "\n",
      "INFO:root:2\n",
      "\n",
      "INFO:root:3\n",
      "\n",
      "INFO:root:4\n",
      "\n",
      "INFO:root:5\n",
      "\n",
      "INFO:root:6\n",
      "\n"
     ]
    }
   ],
   "source": [
    "f = open('logshet.log','r+')\n",
    "for i in f:\n",
    "    print(i)"
   ]
  },
  {
   "cell_type": "code",
   "execution_count": 9,
   "id": "059c7fd7",
   "metadata": {},
   "outputs": [],
   "source": [
    "f.close()"
   ]
  },
  {
   "cell_type": "code",
   "execution_count": 7,
   "id": "c59e04cd",
   "metadata": {},
   "outputs": [],
   "source": [
    "lg.basicConfig(filename='logshet2.log',level=lg.DEBUG,format =  '%(asctime)s -%(name)s -%(levelname)s -%(message)s')"
   ]
  },
  {
   "cell_type": "code",
   "execution_count": 9,
   "id": "f4682f53",
   "metadata": {},
   "outputs": [
    {
     "name": "stderr",
     "output_type": "stream",
     "text": [
      "%(asctime)s %(name)s %(levelname)s %(message)s\n",
      "%(asctime)s %(name)s %(levelname)s %(message)s\n",
      "%(asctime)s %(name)s %(levelname)s %(message)s\n",
      "2022-01-27 17:32:16,842 -root -INFO -this is my first test code fopr log\n",
      "%(asctime)s %(name)s %(levelname)s %(message)s\n",
      "%(asctime)s %(name)s %(levelname)s %(message)s\n",
      "%(asctime)s %(name)s %(levelname)s %(message)s\n",
      "2022-01-27 17:32:16,845 -user1 -INFO -This is info of user one\n",
      "%(asctime)s %(name)s %(levelname)s %(message)s\n",
      "2022-01-27 17:32:16,846 -user2 -DEBUG -this is debug of user 2\n"
     ]
    }
   ],
   "source": [
    "#creating a handler\n",
    "console_log =  lg.StreamHandler()\n",
    "console_log.setLevel(lg.DEBUG)\n",
    "format = lg.Formatter('%(asctime)s -%(name)s -%(levelname)s -%(message)s')\n",
    "console_log.setFormatter(format)\n",
    "\n",
    "lg.getLogger('').addHandler(console_log)\n",
    "lg.info(\"this is my first test code fopr log\")\n",
    "#Createe a custom logger\n",
    "user1 = lg.getLogger('user1')\n",
    "user2= lg.getLogger('user2')\n",
    "user3 = lg.getLogger('user3')\n",
    "user1.info(\"This is info of user one\")\n",
    "user2.debug('this is debug of user 2')"
   ]
  },
  {
   "cell_type": "code",
   "execution_count": 1,
   "id": "b3480c7c",
   "metadata": {},
   "outputs": [
    {
     "name": "stdout",
     "output_type": "stream",
     "text": [
      "7\n",
      "7\n"
     ]
    }
   ],
   "source": [
    "for i in \"Aron77\":\n",
    "    if i.isdigit():\n",
    "        print(i)"
   ]
  },
  {
   "cell_type": "code",
   "execution_count": null,
   "id": "f54bdf69",
   "metadata": {},
   "outputs": [],
   "source": []
  }
 ],
 "metadata": {
  "kernelspec": {
   "display_name": "Python 3 (ipykernel)",
   "language": "python",
   "name": "python3"
  },
  "language_info": {
   "codemirror_mode": {
    "name": "ipython",
    "version": 3
   },
   "file_extension": ".py",
   "mimetype": "text/x-python",
   "name": "python",
   "nbconvert_exporter": "python",
   "pygments_lexer": "ipython3",
   "version": "3.9.7"
  }
 },
 "nbformat": 4,
 "nbformat_minor": 5
}
