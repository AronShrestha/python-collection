{
 "cells": [
  {
   "cell_type": "code",
   "execution_count": 1,
   "id": "c08472d1",
   "metadata": {},
   "outputs": [],
   "source": [
    "## function copy \n",
    "## closure\n",
    "##decorators\n"
   ]
  },
  {
   "cell_type": "code",
   "execution_count": 2,
   "id": "b3ec2ffa",
   "metadata": {},
   "outputs": [],
   "source": [
    "def welcome():\n",
    "    return \"Hello buddy\""
   ]
  },
  {
   "cell_type": "code",
   "execution_count": 4,
   "id": "78f79c5d",
   "metadata": {},
   "outputs": [],
   "source": [
    "wel = welcome()"
   ]
  },
  {
   "cell_type": "code",
   "execution_count": 5,
   "id": "947fa139",
   "metadata": {},
   "outputs": [
    {
     "data": {
      "text/plain": [
       "'Hello buddy'"
      ]
     },
     "execution_count": 5,
     "metadata": {},
     "output_type": "execute_result"
    }
   ],
   "source": [
    "wel"
   ]
  },
  {
   "cell_type": "code",
   "execution_count": 7,
   "id": "d8af4f0d",
   "metadata": {},
   "outputs": [],
   "source": [
    "del welcome"
   ]
  },
  {
   "cell_type": "code",
   "execution_count": 8,
   "id": "b86d3f95",
   "metadata": {},
   "outputs": [
    {
     "data": {
      "text/plain": [
       "'Hello buddy'"
      ]
     },
     "execution_count": 8,
     "metadata": {},
     "output_type": "execute_result"
    }
   ],
   "source": [
    "wel"
   ]
  },
  {
   "cell_type": "code",
   "execution_count": 9,
   "id": "d5e8cfbb",
   "metadata": {},
   "outputs": [
    {
     "ename": "NameError",
     "evalue": "name 'welcome' is not defined",
     "output_type": "error",
     "traceback": [
      "\u001b[0;31m---------------------------------------------------------------------------\u001b[0m",
      "\u001b[0;31mNameError\u001b[0m                                 Traceback (most recent call last)",
      "\u001b[0;32m/tmp/ipykernel_5992/241228648.py\u001b[0m in \u001b[0;36m<module>\u001b[0;34m\u001b[0m\n\u001b[0;32m----> 1\u001b[0;31m \u001b[0mwelcome\u001b[0m\u001b[0;34m(\u001b[0m\u001b[0;34m)\u001b[0m\u001b[0;34m\u001b[0m\u001b[0;34m\u001b[0m\u001b[0m\n\u001b[0m",
      "\u001b[0;31mNameError\u001b[0m: name 'welcome' is not defined"
     ]
    }
   ],
   "source": [
    "welcome()"
   ]
  },
  {
   "cell_type": "code",
   "execution_count": 10,
   "id": "2a4a6518",
   "metadata": {},
   "outputs": [],
   "source": [
    "##so it's a function copy by value not by reference "
   ]
  },
  {
   "cell_type": "code",
   "execution_count": 11,
   "id": "8e47124c",
   "metadata": {},
   "outputs": [],
   "source": [
    "##Closure"
   ]
  },
  {
   "cell_type": "code",
   "execution_count": 12,
   "id": "b12afcdf",
   "metadata": {},
   "outputs": [],
   "source": [
    "def main_welcome():\n",
    "    msg =\"Helllo everyone\"\n",
    "    def sub_welcome_clas():\n",
    "        print('Welcome to my channel Aron')\n",
    "        print(msg)\n",
    "        print(\"Please Suscribe\")\n",
    "    \n",
    "    return sub_welcome_clas()"
   ]
  },
  {
   "cell_type": "code",
   "execution_count": 13,
   "id": "8bc99519",
   "metadata": {},
   "outputs": [
    {
     "name": "stdout",
     "output_type": "stream",
     "text": [
      "Welcome to my channel Aron\n",
      "Helllo everyone\n",
      "Please Suscribe\n"
     ]
    }
   ],
   "source": [
    "main_welcome()"
   ]
  },
  {
   "cell_type": "code",
   "execution_count": 14,
   "id": "cbbd6e0a",
   "metadata": {},
   "outputs": [],
   "source": [
    "def main_welcome(msg):\n",
    "   \n",
    "    def sub_welcome_clas():\n",
    "        print('Welcome to my channel Aron')\n",
    "        print(msg)\n",
    "        print(\"Please Suscribe\")\n",
    "    \n",
    "    return sub_welcome_clas()"
   ]
  },
  {
   "cell_type": "code",
   "execution_count": 15,
   "id": "2c36dab0",
   "metadata": {},
   "outputs": [
    {
     "name": "stdout",
     "output_type": "stream",
     "text": [
      "Welcome to my channel Aron\n",
      "Aron\n",
      "Please Suscribe\n"
     ]
    }
   ],
   "source": [
    "main_welcome(\"Aron\")"
   ]
  },
  {
   "cell_type": "code",
   "execution_count": 20,
   "id": "d82ba2d3",
   "metadata": {},
   "outputs": [],
   "source": [
    "def main_welcome(msg):\n",
    "    n=2\n",
    "    def sub_welcome_clas(n):\n",
    "        print('Welcome to my channel Aron')\n",
    "        print(msg)\n",
    "        print(\"Please Suscribe\")\n",
    "    \n",
    "    return sub_welcome_clas()"
   ]
  },
  {
   "cell_type": "code",
   "execution_count": 21,
   "id": "055ec33e",
   "metadata": {},
   "outputs": [
    {
     "ename": "TypeError",
     "evalue": "sub_welcome_clas() missing 1 required positional argument: 'n'",
     "output_type": "error",
     "traceback": [
      "\u001b[0;31m---------------------------------------------------------------------------\u001b[0m",
      "\u001b[0;31mTypeError\u001b[0m                                 Traceback (most recent call last)",
      "\u001b[0;32m/tmp/ipykernel_5992/3995834089.py\u001b[0m in \u001b[0;36m<module>\u001b[0;34m\u001b[0m\n\u001b[0;32m----> 1\u001b[0;31m \u001b[0mmain_welcome\u001b[0m\u001b[0;34m(\u001b[0m\u001b[0;34m'a'\u001b[0m\u001b[0;34m)\u001b[0m\u001b[0;34m\u001b[0m\u001b[0;34m\u001b[0m\u001b[0m\n\u001b[0m",
      "\u001b[0;32m/tmp/ipykernel_5992/3526614880.py\u001b[0m in \u001b[0;36mmain_welcome\u001b[0;34m(msg)\u001b[0m\n\u001b[1;32m      6\u001b[0m         \u001b[0mprint\u001b[0m\u001b[0;34m(\u001b[0m\u001b[0;34m\"Please Suscribe\"\u001b[0m\u001b[0;34m)\u001b[0m\u001b[0;34m\u001b[0m\u001b[0;34m\u001b[0m\u001b[0m\n\u001b[1;32m      7\u001b[0m \u001b[0;34m\u001b[0m\u001b[0m\n\u001b[0;32m----> 8\u001b[0;31m     \u001b[0;32mreturn\u001b[0m \u001b[0msub_welcome_clas\u001b[0m\u001b[0;34m(\u001b[0m\u001b[0;34m)\u001b[0m\u001b[0;34m\u001b[0m\u001b[0;34m\u001b[0m\u001b[0m\n\u001b[0m",
      "\u001b[0;31mTypeError\u001b[0m: sub_welcome_clas() missing 1 required positional argument: 'n'"
     ]
    }
   ],
   "source": [
    "main_welcome('a')"
   ]
  },
  {
   "cell_type": "code",
   "execution_count": 24,
   "id": "b4ec9e3b",
   "metadata": {},
   "outputs": [],
   "source": [
    "def main_welcome(func):\n",
    "    n=2\n",
    "    def sub_welcome_clas():\n",
    "        print('Welcome to my channel Aron')\n",
    "        func()\n",
    "        print(\"Please Suscribe\")\n",
    "    \n",
    "    return sub_welcome_clas()"
   ]
  },
  {
   "cell_type": "code",
   "execution_count": 25,
   "id": "6625c277",
   "metadata": {},
   "outputs": [
    {
     "name": "stdout",
     "output_type": "stream",
     "text": [
      "Welcome to my channel Aron\n",
      "\n",
      "Please Suscribe\n"
     ]
    }
   ],
   "source": [
    "main_welcome(print)"
   ]
  },
  {
   "cell_type": "code",
   "execution_count": 26,
   "id": "7c107bb0",
   "metadata": {},
   "outputs": [],
   "source": [
    "def main_welcome(func):\n",
    "    n=2\n",
    "    def sub_welcome_clas():\n",
    "        print('Welcome to my channel Aron')\n",
    "        func(\"print func\")\n",
    "        print(\"Please Suscribe\")\n",
    "    \n",
    "    return sub_welcome_clas()"
   ]
  },
  {
   "cell_type": "code",
   "execution_count": 29,
   "id": "b55e47d9",
   "metadata": {},
   "outputs": [
    {
     "name": "stdout",
     "output_type": "stream",
     "text": [
      "Welcome to my channel Aron\n",
      "print func\n",
      "Please Suscribe\n"
     ]
    }
   ],
   "source": [
    "main_welcome(print)"
   ]
  },
  {
   "cell_type": "code",
   "execution_count": 32,
   "id": "75da1081",
   "metadata": {},
   "outputs": [],
   "source": [
    "def main_welcome(func):\n",
    "    n=2\n",
    "    def sub_welcome_clas():\n",
    "        print('Welcome to my channel Aron')\n",
    "        print(func([1,2,3,4,4,5]))\n",
    "        print(\"Please Suscribe\")\n",
    "    \n",
    "    return sub_welcome_clas()"
   ]
  },
  {
   "cell_type": "code",
   "execution_count": 33,
   "id": "7d2311d9",
   "metadata": {},
   "outputs": [
    {
     "name": "stdout",
     "output_type": "stream",
     "text": [
      "Welcome to my channel Aron\n",
      "6\n",
      "Please Suscribe\n"
     ]
    }
   ],
   "source": [
    "main_welcome(len)"
   ]
  },
  {
   "cell_type": "code",
   "execution_count": 30,
   "id": "469154be",
   "metadata": {},
   "outputs": [],
   "source": [
    "##decoraters"
   ]
  },
  {
   "cell_type": "code",
   "execution_count": 43,
   "id": "ed5f426c",
   "metadata": {},
   "outputs": [],
   "source": [
    "def main_welcome(func):\n",
    "    print(\"Inside main function\")\n",
    "    def sub_welcome_clas():\n",
    "        print('Welcome to my channel Aron')\n",
    "        func()\n",
    "        print(\"Please Suscribe\")\n",
    "    print(\"down but inside main func ahaha\")\n",
    "    \n",
    "    return sub_welcome_clas()"
   ]
  },
  {
   "cell_type": "code",
   "execution_count": 44,
   "id": "1a3a5537",
   "metadata": {},
   "outputs": [],
   "source": [
    "def my_channel():\n",
    "    print(\"Aron Channel\")"
   ]
  },
  {
   "cell_type": "code",
   "execution_count": 45,
   "id": "ffc19755",
   "metadata": {},
   "outputs": [
    {
     "name": "stdout",
     "output_type": "stream",
     "text": [
      "Inside main function\n",
      "down but inside main func ahaha\n",
      "Welcome to my channel Aron\n",
      "Aron Channel\n",
      "Please Suscribe\n"
     ]
    }
   ],
   "source": [
    "main_welcome(my_channel)"
   ]
  },
  {
   "cell_type": "code",
   "execution_count": 46,
   "id": "8e1c588d",
   "metadata": {},
   "outputs": [
    {
     "name": "stdout",
     "output_type": "stream",
     "text": [
      "Inside main function\n",
      "down but inside main func ahaha\n",
      "Welcome to my channel Aron\n",
      "Aron Channel\n",
      "Please Suscribe\n"
     ]
    }
   ],
   "source": [
    "@main_welcome\n",
    "def my_channel():\n",
    "    print(\"Aron Channel\")"
   ]
  },
  {
   "cell_type": "code",
   "execution_count": 47,
   "id": "49ff1f77",
   "metadata": {},
   "outputs": [],
   "source": [
    "import requests\n",
    "import json"
   ]
  },
  {
   "cell_type": "code",
   "execution_count": 53,
   "id": "71a2ed9f",
   "metadata": {},
   "outputs": [],
   "source": [
    "def get_quote():\n",
    "    response =  requests.get(\"https://zenquotes.io/api/random\")\n",
    "    json_data = json.loads(response.text)\n",
    "    print(json_data)\n",
    "    print()\n",
    "    print(json_data[0])"
   ]
  },
  {
   "cell_type": "code",
   "execution_count": 54,
   "id": "8cfd326e",
   "metadata": {},
   "outputs": [
    {
     "name": "stdout",
     "output_type": "stream",
     "text": [
      "[{'q': 'The beautiful journey of today can only begin when we learn to let go of yesterday.', 'a': 'Steve Maraboli', 'h': '<blockquote>&ldquo;The beautiful journey of today can only begin when we learn to let go of yesterday.&rdquo; &mdash; <footer>Steve Maraboli</footer></blockquote>'}]\n",
      "\n",
      "{'q': 'The beautiful journey of today can only begin when we learn to let go of yesterday.', 'a': 'Steve Maraboli', 'h': '<blockquote>&ldquo;The beautiful journey of today can only begin when we learn to let go of yesterday.&rdquo; &mdash; <footer>Steve Maraboli</footer></blockquote>'}\n"
     ]
    }
   ],
   "source": [
    "get_quote()"
   ]
  },
  {
   "cell_type": "code",
   "execution_count": 55,
   "id": "99930b2a",
   "metadata": {},
   "outputs": [
    {
     "name": "stdout",
     "output_type": "stream",
     "text": [
      "yes\n"
     ]
    }
   ],
   "source": [
    "sad_words = ['sad','unhappy','tirred','sick','frightened']\n",
    "if 'sad'in sad_words:\n",
    "    print('yes')"
   ]
  },
  {
   "cell_type": "code",
   "execution_count": null,
   "id": "9926427c",
   "metadata": {},
   "outputs": [],
   "source": []
  }
 ],
 "metadata": {
  "kernelspec": {
   "display_name": "Python 3 (ipykernel)",
   "language": "python",
   "name": "python3"
  },
  "language_info": {
   "codemirror_mode": {
    "name": "ipython",
    "version": 3
   },
   "file_extension": ".py",
   "mimetype": "text/x-python",
   "name": "python",
   "nbconvert_exporter": "python",
   "pygments_lexer": "ipython3",
   "version": "3.9.7"
  }
 },
 "nbformat": 4,
 "nbformat_minor": 5
}
