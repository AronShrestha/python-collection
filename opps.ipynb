{
 "cells": [
  {
   "cell_type": "code",
   "execution_count": 1,
   "id": "0743f1ce",
   "metadata": {},
   "outputs": [],
   "source": [
    "import os\n",
    "import logging as lg"
   ]
  },
  {
   "cell_type": "code",
   "execution_count": 2,
   "id": "136471d7",
   "metadata": {},
   "outputs": [
    {
     "data": {
      "text/plain": [
       "'/home/aron/Python'"
      ]
     },
     "execution_count": 2,
     "metadata": {},
     "output_type": "execute_result"
    }
   ],
   "source": [
    "os.getcwd()"
   ]
  },
  {
   "cell_type": "code",
   "execution_count": 4,
   "id": "f829709c",
   "metadata": {},
   "outputs": [
    {
     "data": {
      "text/plain": [
       "['File.ipynb',\n",
       " 'aro.txt',\n",
       " 'logshet.log',\n",
       " '__pycache__',\n",
       " 'logshet2.log',\n",
       " 'logging',\n",
       " 'test.log',\n",
       " 'lambda.py',\n",
       " 'logging_Assignment.ipynb',\n",
       " 'kwargs.py',\n",
       " 'Debugger.ipynb',\n",
       " 'tkinker',\n",
       " 'iterator.py',\n",
       " 'file.py',\n",
       " 'opps.ipynb',\n",
       " '.ipynb_checkpoints',\n",
       " 'logging.ipynb',\n",
       " 'Error HANDLING.ipynb',\n",
       " 'moduleEven_Number.log',\n",
       " 'Aron',\n",
       " 'test',\n",
       " 'even.py',\n",
       " 'test.txt',\n",
       " 'aron.txt',\n",
       " 'funcAndGen.py']"
      ]
     },
     "execution_count": 4,
     "metadata": {},
     "output_type": "execute_result"
    }
   ],
   "source": [
    "os.listdir()"
   ]
  },
  {
   "cell_type": "code",
   "execution_count": 5,
   "id": "7e7f7091",
   "metadata": {},
   "outputs": [
    {
     "data": {
      "text/plain": [
       "'aron.txt'"
      ]
     },
     "execution_count": 5,
     "metadata": {},
     "output_type": "execute_result"
    }
   ],
   "source": [
    "a='aron'\n",
    "j='txt'\n",
    "z=a+'.'+j\n",
    "z"
   ]
  },
  {
   "cell_type": "code",
   "execution_count": 35,
   "id": "9fa9432e",
   "metadata": {},
   "outputs": [],
   "source": [
    "class data:\n",
    "    def __init__(self,filename,file_type,data,size):\n",
    "        self.filename =  filename\n",
    "        self.file_type =  file_type\n",
    "        self.data = data\n",
    "        self.size =  size\n",
    "    \n",
    "    def logge(self,types,message):\n",
    "        lg.basicConfig(filename ='Class_data.log',level=lg.INFO)\n",
    "        lg.info(message)\n",
    "        \n",
    "    def file_open(self):\n",
    "        if self.filename in os.listdir():\n",
    "            print(\"File already exist\")\n",
    "            self.logge(types='info',message=self.filename+'.'+self.file_type+'already present')\n",
    "        \n",
    "        else:\n",
    "            try :\n",
    "                f = open(self.filename+'.'+self.file_type,'w')\n",
    "                f.write(\"Data classs object datas\")\n",
    "                self.logge(types='info',message=self.filename+'.'+self.file_type+'created')\n",
    "                f.close()\n",
    "            except Exception as e:\n",
    "                print(\"file_open error \",e)\n",
    "                self.logge(types='error',message=e)\n",
    "            \n",
    "    def file_read(self):\n",
    "        try :\n",
    "            f = open(self.filename+'.'+self.file_type,'r+')\n",
    "            self.logge(types='info',message=self.filename+'.'+self.file_type+'read')\n",
    "            for i in f:\n",
    "                print(i,end=' ')\n",
    "        \n",
    "        except Exception as e:\n",
    "            print(e)\n",
    "            self.logge(types='error',message=e)\n",
    "        "
   ]
  },
  {
   "cell_type": "code",
   "execution_count": 36,
   "id": "738ca98b",
   "metadata": {},
   "outputs": [],
   "source": [
    "d1 =data('abc','txt',{'a':'Aron'},100)"
   ]
  },
  {
   "cell_type": "code",
   "execution_count": 37,
   "id": "380dd4aa",
   "metadata": {},
   "outputs": [],
   "source": [
    "d1.file_open()"
   ]
  },
  {
   "cell_type": "code",
   "execution_count": 38,
   "id": "f392eaf0",
   "metadata": {},
   "outputs": [
    {
     "name": "stdout",
     "output_type": "stream",
     "text": [
      "Data classs object datas "
     ]
    }
   ],
   "source": [
    "d1.file_read()"
   ]
  },
  {
   "cell_type": "code",
   "execution_count": 39,
   "id": "8836528b",
   "metadata": {},
   "outputs": [],
   "source": [
    "d2 =data('abcdeerf','txt',{'a':'Aron'},100)"
   ]
  },
  {
   "cell_type": "code",
   "execution_count": 40,
   "id": "7ad8bea7",
   "metadata": {},
   "outputs": [
    {
     "name": "stdout",
     "output_type": "stream",
     "text": [
      "[Errno 2] No such file or directory: 'abcdeerf.txt'\n"
     ]
    }
   ],
   "source": [
    "d2.file_read()"
   ]
  },
  {
   "cell_type": "code",
   "execution_count": 37,
   "id": "8fb63098",
   "metadata": {},
   "outputs": [],
   "source": [
    "class Test:\n",
    "    def __init__(self,a,b,c,d):\n",
    "        self.__a =  a\n",
    "        self.b = b\n",
    "        self.c = c\n",
    "        self.d = d\n",
    "    def test_custome(self,v):\n",
    "        return v - self.__a\n",
    "    \n",
    "    def ma(self):\n",
    "        print('This belongs to Test')\n",
    "    \n",
    "    def __str__(self):\n",
    "        return \"This is the test code for abstraction\""
   ]
  },
  {
   "cell_type": "code",
   "execution_count": 38,
   "id": "c504b048",
   "metadata": {},
   "outputs": [],
   "source": [
    "t1 =  Test(1,2,3,4)"
   ]
  },
  {
   "cell_type": "code",
   "execution_count": 39,
   "id": "b349d6bd",
   "metadata": {},
   "outputs": [
    {
     "data": {
      "text/plain": [
       "2"
      ]
     },
     "execution_count": 39,
     "metadata": {},
     "output_type": "execute_result"
    }
   ],
   "source": [
    "t1.b"
   ]
  },
  {
   "cell_type": "code",
   "execution_count": 40,
   "id": "8fda4c6a",
   "metadata": {},
   "outputs": [
    {
     "ename": "AttributeError",
     "evalue": "'Test' object has no attribute '__a'",
     "output_type": "error",
     "traceback": [
      "\u001b[0;31m---------------------------------------------------------------------------\u001b[0m",
      "\u001b[0;31mAttributeError\u001b[0m                            Traceback (most recent call last)",
      "\u001b[0;32m/tmp/ipykernel_4048/1583697819.py\u001b[0m in \u001b[0;36m<module>\u001b[0;34m\u001b[0m\n\u001b[0;32m----> 1\u001b[0;31m \u001b[0mt1\u001b[0m\u001b[0;34m.\u001b[0m\u001b[0m__a\u001b[0m\u001b[0;34m\u001b[0m\u001b[0;34m\u001b[0m\u001b[0m\n\u001b[0m",
      "\u001b[0;31mAttributeError\u001b[0m: 'Test' object has no attribute '__a'"
     ]
    }
   ],
   "source": [
    "t1.__a"
   ]
  },
  {
   "cell_type": "markdown",
   "id": "49c3810a",
   "metadata": {},
   "source": [
    "t1._test__a "
   ]
  },
  {
   "cell_type": "code",
   "execution_count": 41,
   "id": "607035f8",
   "metadata": {},
   "outputs": [
    {
     "data": {
      "text/plain": [
       "1"
      ]
     },
     "execution_count": 41,
     "metadata": {},
     "output_type": "execute_result"
    }
   ],
   "source": [
    "t1._Test__a\n"
   ]
  },
  {
   "cell_type": "code",
   "execution_count": 42,
   "id": "1255b2e1",
   "metadata": {},
   "outputs": [
    {
     "data": {
      "text/plain": [
       "5"
      ]
     },
     "execution_count": 42,
     "metadata": {},
     "output_type": "execute_result"
    }
   ],
   "source": [
    "t1.test_custome(6)"
   ]
  },
  {
   "cell_type": "code",
   "execution_count": 43,
   "id": "40a68319",
   "metadata": {},
   "outputs": [],
   "source": [
    "class test1(Test):\n",
    "    def __init__(self,a,*args):\n",
    "        super().__init__(*args)\n",
    "        self.a = a\n",
    "    \n",
    "    def ma(self):\n",
    "        print('This belongs to test1')\n",
    "        "
   ]
  },
  {
   "cell_type": "code",
   "execution_count": 44,
   "id": "1fa12e57",
   "metadata": {},
   "outputs": [],
   "source": [
    "t2 = test1(1,2,3,4,5)"
   ]
  },
  {
   "cell_type": "code",
   "execution_count": 45,
   "id": "ec3ef264",
   "metadata": {},
   "outputs": [
    {
     "data": {
      "text/plain": [
       "3"
      ]
     },
     "execution_count": 45,
     "metadata": {},
     "output_type": "execute_result"
    }
   ],
   "source": [
    "t2.b"
   ]
  },
  {
   "cell_type": "code",
   "execution_count": 46,
   "id": "cd5bc27a",
   "metadata": {},
   "outputs": [
    {
     "data": {
      "text/plain": [
       "1"
      ]
     },
     "execution_count": 46,
     "metadata": {},
     "output_type": "execute_result"
    }
   ],
   "source": [
    "t2.a"
   ]
  },
  {
   "cell_type": "code",
   "execution_count": 47,
   "id": "4ef0e6cc",
   "metadata": {},
   "outputs": [
    {
     "ename": "AttributeError",
     "evalue": "'test1' object has no attribute '__a'",
     "output_type": "error",
     "traceback": [
      "\u001b[0;31m---------------------------------------------------------------------------\u001b[0m",
      "\u001b[0;31mAttributeError\u001b[0m                            Traceback (most recent call last)",
      "\u001b[0;32m/tmp/ipykernel_4048/2014234648.py\u001b[0m in \u001b[0;36m<module>\u001b[0;34m\u001b[0m\n\u001b[0;32m----> 1\u001b[0;31m \u001b[0mt2\u001b[0m\u001b[0;34m.\u001b[0m\u001b[0m__a\u001b[0m\u001b[0;34m\u001b[0m\u001b[0;34m\u001b[0m\u001b[0m\n\u001b[0m",
      "\u001b[0;31mAttributeError\u001b[0m: 'test1' object has no attribute '__a'"
     ]
    }
   ],
   "source": [
    "t2.__a"
   ]
  },
  {
   "cell_type": "code",
   "execution_count": 48,
   "id": "dccd8320",
   "metadata": {},
   "outputs": [
    {
     "data": {
      "text/plain": [
       "0"
      ]
     },
     "execution_count": 48,
     "metadata": {},
     "output_type": "execute_result"
    }
   ],
   "source": [
    "t2.test_custome(2)"
   ]
  },
  {
   "cell_type": "code",
   "execution_count": 51,
   "id": "91bad899",
   "metadata": {},
   "outputs": [],
   "source": [
    "class test2(test1,Test):\n",
    "    def __init__(self,q,*args):\n",
    "        super(test1,self).__init__(*args)\n",
    "        self.q = q\n",
    "    \n",
    "    \n",
    "    "
   ]
  },
  {
   "cell_type": "code",
   "execution_count": 52,
   "id": "e2c995bc",
   "metadata": {},
   "outputs": [],
   "source": [
    "t3 =test2(9,8,7,6,5)"
   ]
  },
  {
   "cell_type": "code",
   "execution_count": 53,
   "id": "f9a64e70",
   "metadata": {},
   "outputs": [
    {
     "data": {
      "text/plain": [
       "-7"
      ]
     },
     "execution_count": 53,
     "metadata": {},
     "output_type": "execute_result"
    }
   ],
   "source": [
    "t3.test_custome(1)"
   ]
  },
  {
   "cell_type": "code",
   "execution_count": 54,
   "id": "ac906d7a",
   "metadata": {},
   "outputs": [
    {
     "name": "stdout",
     "output_type": "stream",
     "text": [
      "This belongs to test1\n"
     ]
    }
   ],
   "source": [
    "t3.ma()"
   ]
  },
  {
   "cell_type": "code",
   "execution_count": 56,
   "id": "c15a3c7d",
   "metadata": {},
   "outputs": [
    {
     "data": {
      "text/plain": [
       "9"
      ]
     },
     "execution_count": 56,
     "metadata": {},
     "output_type": "execute_result"
    }
   ],
   "source": [
    "t3.q"
   ]
  },
  {
   "cell_type": "code",
   "execution_count": 57,
   "id": "9165343a",
   "metadata": {},
   "outputs": [
    {
     "data": {
      "text/plain": [
       "7"
      ]
     },
     "execution_count": 57,
     "metadata": {},
     "output_type": "execute_result"
    }
   ],
   "source": [
    "t3.b"
   ]
  },
  {
   "cell_type": "markdown",
   "id": "b76d0f43",
   "metadata": {},
   "source": [
    "t3,a"
   ]
  },
  {
   "cell_type": "code",
   "execution_count": 58,
   "id": "f5795550",
   "metadata": {},
   "outputs": [
    {
     "ename": "AttributeError",
     "evalue": "'test2' object has no attribute 'a'",
     "output_type": "error",
     "traceback": [
      "\u001b[0;31m---------------------------------------------------------------------------\u001b[0m",
      "\u001b[0;31mAttributeError\u001b[0m                            Traceback (most recent call last)",
      "\u001b[0;32m/tmp/ipykernel_4048/1546906131.py\u001b[0m in \u001b[0;36m<module>\u001b[0;34m\u001b[0m\n\u001b[0;32m----> 1\u001b[0;31m \u001b[0mt3\u001b[0m\u001b[0;34m.\u001b[0m\u001b[0ma\u001b[0m\u001b[0;34m\u001b[0m\u001b[0;34m\u001b[0m\u001b[0m\n\u001b[0m",
      "\u001b[0;31mAttributeError\u001b[0m: 'test2' object has no attribute 'a'"
     ]
    }
   ],
   "source": [
    "t3.a"
   ]
  },
  {
   "cell_type": "code",
   "execution_count": 7,
   "id": "d7044607",
   "metadata": {},
   "outputs": [],
   "source": [
    "class T:\n",
    "    def my_class(self):\n",
    "        print(\"Class T\")\n",
    "\n",
    "class t1:\n",
    "    def my_class(self):\n",
    "        print('Class T1')\n",
    "\n",
    "class t2(T,t1):\n",
    "    def choose(self,c):\n",
    "        if c=='T':\n",
    "            T.my_class()\n",
    "        else:\n",
    "            t1.my_class()"
   ]
  },
  {
   "cell_type": "code",
   "execution_count": null,
   "id": "3aaf1214",
   "metadata": {},
   "outputs": [],
   "source": []
  },
  {
   "cell_type": "code",
   "execution_count": 8,
   "id": "aa830fd0",
   "metadata": {},
   "outputs": [],
   "source": [
    "t2 = t2()"
   ]
  },
  {
   "cell_type": "code",
   "execution_count": 9,
   "id": "f0683427",
   "metadata": {},
   "outputs": [],
   "source": [
    "T=T()"
   ]
  },
  {
   "cell_type": "code",
   "execution_count": 10,
   "id": "cdbe8fdd",
   "metadata": {},
   "outputs": [],
   "source": [
    "t1 =t1()"
   ]
  },
  {
   "cell_type": "code",
   "execution_count": 12,
   "id": "d341db76",
   "metadata": {},
   "outputs": [
    {
     "name": "stdout",
     "output_type": "stream",
     "text": [
      "Class T\n"
     ]
    }
   ],
   "source": [
    " t2.choose('T')"
   ]
  },
  {
   "cell_type": "code",
   "execution_count": 13,
   "id": "81efc26f",
   "metadata": {},
   "outputs": [
    {
     "name": "stdout",
     "output_type": "stream",
     "text": [
      "Class T1\n"
     ]
    }
   ],
   "source": [
    "t2.choose('t1')"
   ]
  },
  {
   "cell_type": "code",
   "execution_count": 14,
   "id": "a0076d84",
   "metadata": {},
   "outputs": [],
   "source": [
    "#encapluation"
   ]
  },
  {
   "cell_type": "code",
   "execution_count": 27,
   "id": "94a1be6a",
   "metadata": {},
   "outputs": [],
   "source": [
    "class test:\n",
    "    def __init__(self,a,b,c):\n",
    "        self.a =a \n",
    "        self.b = b\n",
    "        self.c = c\n",
    "    \n",
    "    def __str__(self):\n",
    "        return 'This is return from my test1 class'\n",
    "\n",
    "\n",
    "class test2:\n",
    "    def __init__(self,a,b,c):\n",
    "        self.a =a \n",
    "        self.b = b\n",
    "        self.c = c\n",
    "    \n",
    "    def __str__(self):\n",
    "        return 'This is return from my test2 class'\n",
    "\n",
    "    \n",
    "class test3:\n",
    "    def __init__(self,a,b,c):\n",
    "        self.a =a \n",
    "        self.b = b\n",
    "        self.c = c\n",
    "    \n",
    "    def __str__(self):\n",
    "        return 'This is return from my test3 class'\n",
    "    \n",
    "class final:\n",
    "    def __init__(self,x,y,z):\n",
    "        self.x = x\n",
    "        self.y= y\n",
    "        self.z =z\n",
    "    \n",
    "    def __str__(self):\n",
    "        return str(self.x) +\" \"+str(self.y) +\" \"+str(self.z)"
   ]
  },
  {
   "cell_type": "markdown",
   "id": "c2198fd9",
   "metadata": {},
   "source": []
  },
  {
   "cell_type": "code",
   "execution_count": 28,
   "id": "b6b715e4",
   "metadata": {},
   "outputs": [],
   "source": [
    "t =test(4,5,6)\n",
    "t1 = test(3,4,5)\n",
    "t2 = test2(6,7,8)\n",
    "f =final(t1,t2,'aron')"
   ]
  },
  {
   "cell_type": "code",
   "execution_count": 29,
   "id": "d11cda08",
   "metadata": {},
   "outputs": [
    {
     "data": {
      "text/plain": [
       "<__main__.final at 0x7fca0433a1f0>"
      ]
     },
     "execution_count": 29,
     "metadata": {},
     "output_type": "execute_result"
    }
   ],
   "source": [
    "f"
   ]
  },
  {
   "cell_type": "code",
   "execution_count": 30,
   "id": "c7decc9a",
   "metadata": {},
   "outputs": [
    {
     "name": "stdout",
     "output_type": "stream",
     "text": [
      "This is return from my test1 class This is return from my test2 class aron\n"
     ]
    }
   ],
   "source": [
    "print(f)"
   ]
  },
  {
   "cell_type": "code",
   "execution_count": 31,
   "id": "55c0b774",
   "metadata": {},
   "outputs": [],
   "source": [
    "f1 =  final(t,t1,t2)"
   ]
  },
  {
   "cell_type": "code",
   "execution_count": 32,
   "id": "aca059d4",
   "metadata": {},
   "outputs": [
    {
     "name": "stdout",
     "output_type": "stream",
     "text": [
      "This is return from my test1 class This is return from my test1 class This is return from my test2 class\n"
     ]
    }
   ],
   "source": [
    "print(f1)"
   ]
  },
  {
   "cell_type": "code",
   "execution_count": 88,
   "id": "f5b22a1a",
   "metadata": {},
   "outputs": [],
   "source": [
    "class T:\n",
    "    def __init__(self,a):\n",
    "        self.a = a\n",
    "        \n",
    "    def my_class(self):\n",
    "        print(\"Class T\")\n",
    "\n",
    "class t1(T):\n",
    "    def __init__(self,a,b):\n",
    "        super().__init__(a)\n",
    "        self.b  =b\n",
    "    \n",
    "        print('Class T1')\n",
    "\n",
    "class t2(t1,T):\n",
    "    def __init__(self,a,b,c):\n",
    "        super().__init__(a,b)\n",
    "        self.c =c\n",
    "    def choose(self,c):\n",
    "        if c=='T':\n",
    "            T.my_class()\n",
    "        else:\n",
    "            t1.my_class()"
   ]
  },
  {
   "cell_type": "code",
   "execution_count": 89,
   "id": "5a1c00a3",
   "metadata": {},
   "outputs": [
    {
     "name": "stdout",
     "output_type": "stream",
     "text": [
      "Class T1\n"
     ]
    }
   ],
   "source": [
    "a =t2(6,7,8)"
   ]
  },
  {
   "cell_type": "code",
   "execution_count": 90,
   "id": "da638ffc",
   "metadata": {},
   "outputs": [
    {
     "data": {
      "text/plain": [
       "7"
      ]
     },
     "execution_count": 90,
     "metadata": {},
     "output_type": "execute_result"
    }
   ],
   "source": [
    "a.b"
   ]
  },
  {
   "cell_type": "code",
   "execution_count": 91,
   "id": "8c7c9da0",
   "metadata": {},
   "outputs": [
    {
     "data": {
      "text/plain": [
       "6"
      ]
     },
     "execution_count": 91,
     "metadata": {},
     "output_type": "execute_result"
    }
   ],
   "source": [
    "a.a"
   ]
  },
  {
   "cell_type": "code",
   "execution_count": 92,
   "id": "47915f25",
   "metadata": {},
   "outputs": [
    {
     "data": {
      "text/plain": [
       "8"
      ]
     },
     "execution_count": 92,
     "metadata": {},
     "output_type": "execute_result"
    }
   ],
   "source": [
    "a.c"
   ]
  },
  {
   "cell_type": "code",
   "execution_count": null,
   "id": "76a959ea",
   "metadata": {},
   "outputs": [],
   "source": []
  }
 ],
 "metadata": {
  "kernelspec": {
   "display_name": "Python 3 (ipykernel)",
   "language": "python",
   "name": "python3"
  },
  "language_info": {
   "codemirror_mode": {
    "name": "ipython",
    "version": 3
   },
   "file_extension": ".py",
   "mimetype": "text/x-python",
   "name": "python",
   "nbconvert_exporter": "python",
   "pygments_lexer": "ipython3",
   "version": "3.9.7"
  }
 },
 "nbformat": 4,
 "nbformat_minor": 5
}
