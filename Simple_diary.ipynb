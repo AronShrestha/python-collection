{
 "cells": [
  {
   "cell_type": "code",
   "execution_count": 1,
   "id": "2ec0f680",
   "metadata": {},
   "outputs": [],
   "source": [
    "import mysql.connector as connection\n",
    "import pandas as pd"
   ]
  },
  {
   "cell_type": "code",
   "execution_count": 26,
   "id": "633b0a2e",
   "metadata": {},
   "outputs": [],
   "source": [
    "\n",
    "class Model_diary:\n",
    "    \"\"\"\n",
    "    It's a simple model for storing your data\n",
    "    \"\"\"\n",
    "    tasks = {}\n",
    "    def work(self):\n",
    "        try :\n",
    "            mydb =  connection.connect(host='localhost',database='Aron',user='root',passwd='root',use_pure=True)\n",
    "                \n",
    "            query = \"\"\"\n",
    "            Insert into dairy (Day ,Task) values(%s,%s)\n",
    "                    \n",
    "            \"\"\"\n",
    "            t=list(self.tasks.items())\n",
    "            print(t[0])\n",
    "            cursor =  mydb.cursor()\n",
    "            cursor.execute(query,t[0])\n",
    "            mydb.commit()\n",
    "            mydb.close()\n",
    "            print(tasks)\n",
    "\n",
    "        except Exception as e:\n",
    "            mydb.close()\n",
    "            print(str(e))\n",
    "        \n",
    "\n",
    "class View():\n",
    "    def setup(self,controller):\n",
    "        controller.ask_input()\n",
    "        controller.show()\n",
    "        \n",
    "\n",
    "\n",
    "class Controller():\n",
    "    def __init__(self,model,view) -> None:\n",
    "        self.model = model\n",
    "        self.view =  view\n",
    "    \n",
    "    def start(self):\n",
    "        try :\n",
    "            mydb =  connection.connect(host='localhost',database='Aron',user='root',passwd='root',use_pure=True)\n",
    "                \n",
    "            query = \"Create table if not exists dairy (Day Varchar(10), Task Varchar(300))\"\n",
    "        \n",
    "            cursor =  mydb.cursor()\n",
    "            cursor.execute(query)\n",
    "            mydb.close()\n",
    "\n",
    "        except Exception as e:\n",
    "            mydb.close()\n",
    "            print(\"Error is\",str(e))\n",
    "\n",
    "        self.view.setup(self)\n",
    "\n",
    "\n",
    "    \n",
    "    def ask_input(self)->None:\n",
    "        days=['sunday','monday','tuesday','wedbesday','thursday','friday','saturday']\n",
    "        day = input(\"Enter the day\")\n",
    "        if day.casefold() not in days:\n",
    "            raise Exception (day,\"is not a valid day\")\n",
    " \n",
    "        task = input(\"Enter the task\") \n",
    "        self.model.tasks[day.casefold()] =task\n",
    "        self.model.work()\n",
    "\n",
    "\n",
    "    def show(self) :\n",
    "      print(self.model.tasks)"
   ]
  },
  {
   "cell_type": "code",
   "execution_count": 27,
   "id": "8713a485",
   "metadata": {},
   "outputs": [
    {
     "name": "stdout",
     "output_type": "stream",
     "text": [
      "Enter the daymonday\n",
      "Enter the taskRead book\n",
      "('monday', 'Read book')\n",
      "name 'tasks' is not defined\n",
      "{'monday': 'Read book'}\n"
     ]
    }
   ],
   "source": [
    "d1 = Controller(Model_diary(),View())\n",
    "d1.start()"
   ]
  },
  {
   "cell_type": "code",
   "execution_count": null,
   "id": "d6054e9b",
   "metadata": {},
   "outputs": [],
   "source": []
  }
 ],
 "metadata": {
  "kernelspec": {
   "display_name": "Python 3 (ipykernel)",
   "language": "python",
   "name": "python3"
  },
  "language_info": {
   "codemirror_mode": {
    "name": "ipython",
    "version": 3
   },
   "file_extension": ".py",
   "mimetype": "text/x-python",
   "name": "python",
   "nbconvert_exporter": "python",
   "pygments_lexer": "ipython3",
   "version": "3.9.7"
  }
 },
 "nbformat": 4,
 "nbformat_minor": 5
}
