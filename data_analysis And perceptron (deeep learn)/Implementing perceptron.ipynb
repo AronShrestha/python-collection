{
 "cells": [
  {
   "cell_type": "code",
   "execution_count": 19,
   "id": "3723c291",
   "metadata": {},
   "outputs": [],
   "source": [
    "import numpy as np\n",
    "import matplotlib.pyplot as plt\n",
    "import pandas as pd\n",
    "import joblib\n",
    "plt.style.use(\"fivethirtyeight\")"
   ]
  },
  {
   "cell_type": "code",
   "execution_count": 20,
   "id": "673f7627",
   "metadata": {},
   "outputs": [
    {
     "data": {
      "text/plain": [
       "array([ 1.56400931, -0.62332313, -0.2013023 ])"
      ]
     },
     "execution_count": 20,
     "metadata": {},
     "output_type": "execute_result"
    }
   ],
   "source": [
    "weights = np.random.randn(3) \n",
    "weights"
   ]
  },
  {
   "cell_type": "code",
   "execution_count": 21,
   "id": "e94ae400",
   "metadata": {},
   "outputs": [
    {
     "data": {
      "text/plain": [
       "(3,)"
      ]
     },
     "execution_count": 21,
     "metadata": {},
     "output_type": "execute_result"
    }
   ],
   "source": [
    "weights.shape"
   ]
  },
  {
   "cell_type": "code",
   "execution_count": 22,
   "id": "ad42b462",
   "metadata": {},
   "outputs": [
    {
     "data": {
      "text/html": [
       "<div>\n",
       "<style scoped>\n",
       "    .dataframe tbody tr th:only-of-type {\n",
       "        vertical-align: middle;\n",
       "    }\n",
       "\n",
       "    .dataframe tbody tr th {\n",
       "        vertical-align: top;\n",
       "    }\n",
       "\n",
       "    .dataframe thead th {\n",
       "        text-align: right;\n",
       "    }\n",
       "</style>\n",
       "<table border=\"1\" class=\"dataframe\">\n",
       "  <thead>\n",
       "    <tr style=\"text-align: right;\">\n",
       "      <th></th>\n",
       "      <th>x1</th>\n",
       "      <th>x2</th>\n",
       "      <th>y</th>\n",
       "    </tr>\n",
       "  </thead>\n",
       "  <tbody>\n",
       "    <tr>\n",
       "      <th>0</th>\n",
       "      <td>0</td>\n",
       "      <td>0</td>\n",
       "      <td>0</td>\n",
       "    </tr>\n",
       "    <tr>\n",
       "      <th>1</th>\n",
       "      <td>0</td>\n",
       "      <td>1</td>\n",
       "      <td>0</td>\n",
       "    </tr>\n",
       "    <tr>\n",
       "      <th>2</th>\n",
       "      <td>1</td>\n",
       "      <td>0</td>\n",
       "      <td>0</td>\n",
       "    </tr>\n",
       "    <tr>\n",
       "      <th>3</th>\n",
       "      <td>1</td>\n",
       "      <td>1</td>\n",
       "      <td>1</td>\n",
       "    </tr>\n",
       "  </tbody>\n",
       "</table>\n",
       "</div>"
      ],
      "text/plain": [
       "   x1  x2  y\n",
       "0   0   0  0\n",
       "1   0   1  0\n",
       "2   1   0  0\n",
       "3   1   1  1"
      ]
     },
     "execution_count": 22,
     "metadata": {},
     "output_type": "execute_result"
    }
   ],
   "source": [
    "data = {'x1':[0,0,1,1],'x2':[0,1,0,1],'y':[0,0,0,1]}\n",
    "AND = pd.DataFrame(data)\n",
    "AND"
   ]
  },
  {
   "cell_type": "code",
   "execution_count": 23,
   "id": "b6453108",
   "metadata": {},
   "outputs": [
    {
     "data": {
      "text/html": [
       "<div>\n",
       "<style scoped>\n",
       "    .dataframe tbody tr th:only-of-type {\n",
       "        vertical-align: middle;\n",
       "    }\n",
       "\n",
       "    .dataframe tbody tr th {\n",
       "        vertical-align: top;\n",
       "    }\n",
       "\n",
       "    .dataframe thead th {\n",
       "        text-align: right;\n",
       "    }\n",
       "</style>\n",
       "<table border=\"1\" class=\"dataframe\">\n",
       "  <thead>\n",
       "    <tr style=\"text-align: right;\">\n",
       "      <th></th>\n",
       "      <th>x1</th>\n",
       "      <th>x2</th>\n",
       "    </tr>\n",
       "  </thead>\n",
       "  <tbody>\n",
       "    <tr>\n",
       "      <th>0</th>\n",
       "      <td>0</td>\n",
       "      <td>0</td>\n",
       "    </tr>\n",
       "    <tr>\n",
       "      <th>1</th>\n",
       "      <td>0</td>\n",
       "      <td>1</td>\n",
       "    </tr>\n",
       "    <tr>\n",
       "      <th>2</th>\n",
       "      <td>1</td>\n",
       "      <td>0</td>\n",
       "    </tr>\n",
       "    <tr>\n",
       "      <th>3</th>\n",
       "      <td>1</td>\n",
       "      <td>1</td>\n",
       "    </tr>\n",
       "  </tbody>\n",
       "</table>\n",
       "</div>"
      ],
      "text/plain": [
       "   x1  x2\n",
       "0   0   0\n",
       "1   0   1\n",
       "2   1   0\n",
       "3   1   1"
      ]
     },
     "execution_count": 23,
     "metadata": {},
     "output_type": "execute_result"
    }
   ],
   "source": [
    "X = AND.drop('y',axis=1)\n",
    "X"
   ]
  },
  {
   "cell_type": "code",
   "execution_count": 24,
   "id": "94984ba2",
   "metadata": {},
   "outputs": [
    {
     "data": {
      "text/plain": [
       "array([[ 0.,  0., -1.],\n",
       "       [ 0.,  1., -1.],\n",
       "       [ 1.,  0., -1.],\n",
       "       [ 1.,  1., -1.]])"
      ]
     },
     "execution_count": 24,
     "metadata": {},
     "output_type": "execute_result"
    }
   ],
   "source": [
    "X_with_bias = np.c_[X,-np.ones((len(X),1))]\n",
    "X_with_bias"
   ]
  },
  {
   "cell_type": "code",
   "execution_count": 25,
   "id": "05646134",
   "metadata": {},
   "outputs": [
    {
     "data": {
      "text/plain": [
       "array([[ 0.,  0.,  1.,  1.],\n",
       "       [ 0.,  1.,  0.,  1.],\n",
       "       [-1., -1., -1., -1.]])"
      ]
     },
     "execution_count": 25,
     "metadata": {},
     "output_type": "execute_result"
    }
   ],
   "source": [
    "X_with_bias.T"
   ]
  },
  {
   "cell_type": "code",
   "execution_count": 26,
   "id": "11ce0e9c",
   "metadata": {},
   "outputs": [
    {
     "data": {
      "text/plain": [
       "(3, 4)"
      ]
     },
     "execution_count": 26,
     "metadata": {},
     "output_type": "execute_result"
    }
   ],
   "source": [
    "X_with_bias.T.shape"
   ]
  },
  {
   "cell_type": "code",
   "execution_count": 27,
   "id": "376b78ac",
   "metadata": {},
   "outputs": [
    {
     "data": {
      "text/plain": [
       "array([ 1.56400931, -0.62332313, -0.2013023 ])"
      ]
     },
     "execution_count": 27,
     "metadata": {},
     "output_type": "execute_result"
    }
   ],
   "source": [
    "weights"
   ]
  },
  {
   "cell_type": "code",
   "execution_count": 28,
   "id": "e0ad32df",
   "metadata": {},
   "outputs": [
    {
     "data": {
      "text/plain": [
       "(4, 3)"
      ]
     },
     "execution_count": 28,
     "metadata": {},
     "output_type": "execute_result"
    }
   ],
   "source": [
    "X_with_bias.shape"
   ]
  },
  {
   "cell_type": "code",
   "execution_count": 29,
   "id": "6e278744",
   "metadata": {},
   "outputs": [
    {
     "data": {
      "text/plain": [
       "(3,)"
      ]
     },
     "execution_count": 29,
     "metadata": {},
     "output_type": "execute_result"
    }
   ],
   "source": [
    "weights.shape"
   ]
  },
  {
   "cell_type": "code",
   "execution_count": 32,
   "id": "74b9725b",
   "metadata": {},
   "outputs": [
    {
     "data": {
      "text/plain": [
       "0    0\n",
       "1    0\n",
       "2    0\n",
       "3    1\n",
       "Name: y, dtype: int64"
      ]
     },
     "execution_count": 32,
     "metadata": {},
     "output_type": "execute_result"
    }
   ],
   "source": [
    "y=AND['y']\n",
    "y"
   ]
  },
  {
   "cell_type": "code",
   "execution_count": 33,
   "id": "9c262341",
   "metadata": {},
   "outputs": [
    {
     "data": {
      "text/plain": [
       "(4,)"
      ]
     },
     "execution_count": 33,
     "metadata": {},
     "output_type": "execute_result"
    }
   ],
   "source": [
    "y.shape"
   ]
  },
  {
   "cell_type": "code",
   "execution_count": 38,
   "id": "4257aa28",
   "metadata": {},
   "outputs": [],
   "source": [
    "class Perceptron:\n",
    "    def __init__(self, epochs,alpha):\n",
    "        self.epochs =  epochs\n",
    "        self.alpha = alpha\n",
    "      \n",
    "        self.weights = np.random.randn(3) * 1e-4\n",
    "        \n",
    "    def activationFunction(self,inputs,weights):\n",
    "        z = np.dot(inputs,weights)\n",
    "        return np.where(z>0,1,0)\n",
    "        \n",
    "    \n",
    "    def fit(self,X,y):\n",
    "        print(f\"weight_initially \\n:{self.weights}\")\n",
    "        self.X = X\n",
    "        self.y = y\n",
    "        X_with_bias = np.c_[self.X,-np.ones((len(self.X),1))]\n",
    "        print(f\"X-with_bias_initially \\n:{X_with_bias}\")\n",
    "    \n",
    "    \n",
    "        for epochs in range(self.epochs):\n",
    "            print(f\"Epochs no:{epochs}\" )\n",
    "            y_predict = self.activationFunction(X_with_bias,self.weights)\n",
    "            print(f\"Predicted value \\n : {y_predict}\")\n",
    "            error = self.y - y_predict\n",
    "            print(f\"Error \\n : {error}\")\n",
    "            self.weights = self.weights + self.alpha*(np.dot(X_with_bias.T,error))\n",
    "            print(f\"updated weights : {self.weights}\")\n",
    "            print(\"/////////////////////////////////////////////// \\n\")\n",
    "    \n",
    "    def predict(self,X):\n",
    "        X_with_bias = np.c_[X,-np.ones((len(self.X),1))]\n",
    "        return self.activationFunction(X_with_bias,self.weights)"
   ]
  },
  {
   "cell_type": "code",
   "execution_count": null,
   "id": "ee4b5642",
   "metadata": {},
   "outputs": [],
   "source": []
  },
  {
   "cell_type": "code",
   "execution_count": 39,
   "id": "ae1fcfa5",
   "metadata": {},
   "outputs": [],
   "source": [
    "first_model =Perceptron(epochs =10,alpha = 0.01)\n"
   ]
  },
  {
   "cell_type": "code",
   "execution_count": 40,
   "id": "695c4484",
   "metadata": {},
   "outputs": [
    {
     "name": "stdout",
     "output_type": "stream",
     "text": [
      "weight_initially \n",
      ":[4.28936146e-05 2.95522458e-05 2.13273002e-04]\n",
      "X-with_bias_initially \n",
      ":[[ 0.  0. -1.]\n",
      " [ 0.  1. -1.]\n",
      " [ 1.  0. -1.]\n",
      " [ 1.  1. -1.]]\n",
      "Epochs no:0\n",
      "Predicted value \n",
      " : [0 0 0 0]\n",
      "Error \n",
      " : 0    0\n",
      "1    0\n",
      "2    0\n",
      "3    1\n",
      "Name: y, dtype: int64\n",
      "updated weights : [ 0.01004289  0.01002955 -0.00978673]\n",
      "/////////////////////////////////////////////// \n",
      "\n",
      "Epochs no:1\n",
      "Predicted value \n",
      " : [1 1 1 1]\n",
      "Error \n",
      " : 0   -1\n",
      "1   -1\n",
      "2   -1\n",
      "3    0\n",
      "Name: y, dtype: int64\n",
      "updated weights : [4.28936146e-05 2.95522458e-05 2.02132730e-02]\n",
      "/////////////////////////////////////////////// \n",
      "\n",
      "Epochs no:2\n",
      "Predicted value \n",
      " : [0 0 0 0]\n",
      "Error \n",
      " : 0    0\n",
      "1    0\n",
      "2    0\n",
      "3    1\n",
      "Name: y, dtype: int64\n",
      "updated weights : [0.01004289 0.01002955 0.01021327]\n",
      "/////////////////////////////////////////////// \n",
      "\n",
      "Epochs no:3\n",
      "Predicted value \n",
      " : [0 0 0 1]\n",
      "Error \n",
      " : 0    0\n",
      "1    0\n",
      "2    0\n",
      "3    0\n",
      "Name: y, dtype: int64\n",
      "updated weights : [0.01004289 0.01002955 0.01021327]\n",
      "/////////////////////////////////////////////// \n",
      "\n",
      "Epochs no:4\n",
      "Predicted value \n",
      " : [0 0 0 1]\n",
      "Error \n",
      " : 0    0\n",
      "1    0\n",
      "2    0\n",
      "3    0\n",
      "Name: y, dtype: int64\n",
      "updated weights : [0.01004289 0.01002955 0.01021327]\n",
      "/////////////////////////////////////////////// \n",
      "\n",
      "Epochs no:5\n",
      "Predicted value \n",
      " : [0 0 0 1]\n",
      "Error \n",
      " : 0    0\n",
      "1    0\n",
      "2    0\n",
      "3    0\n",
      "Name: y, dtype: int64\n",
      "updated weights : [0.01004289 0.01002955 0.01021327]\n",
      "/////////////////////////////////////////////// \n",
      "\n",
      "Epochs no:6\n",
      "Predicted value \n",
      " : [0 0 0 1]\n",
      "Error \n",
      " : 0    0\n",
      "1    0\n",
      "2    0\n",
      "3    0\n",
      "Name: y, dtype: int64\n",
      "updated weights : [0.01004289 0.01002955 0.01021327]\n",
      "/////////////////////////////////////////////// \n",
      "\n",
      "Epochs no:7\n",
      "Predicted value \n",
      " : [0 0 0 1]\n",
      "Error \n",
      " : 0    0\n",
      "1    0\n",
      "2    0\n",
      "3    0\n",
      "Name: y, dtype: int64\n",
      "updated weights : [0.01004289 0.01002955 0.01021327]\n",
      "/////////////////////////////////////////////// \n",
      "\n",
      "Epochs no:8\n",
      "Predicted value \n",
      " : [0 0 0 1]\n",
      "Error \n",
      " : 0    0\n",
      "1    0\n",
      "2    0\n",
      "3    0\n",
      "Name: y, dtype: int64\n",
      "updated weights : [0.01004289 0.01002955 0.01021327]\n",
      "/////////////////////////////////////////////// \n",
      "\n",
      "Epochs no:9\n",
      "Predicted value \n",
      " : [0 0 0 1]\n",
      "Error \n",
      " : 0    0\n",
      "1    0\n",
      "2    0\n",
      "3    0\n",
      "Name: y, dtype: int64\n",
      "updated weights : [0.01004289 0.01002955 0.01021327]\n",
      "/////////////////////////////////////////////// \n",
      "\n"
     ]
    }
   ],
   "source": [
    "first_model.fit(X,y)\n"
   ]
  },
  {
   "cell_type": "code",
   "execution_count": null,
   "id": "04e996b3",
   "metadata": {},
   "outputs": [],
   "source": []
  },
  {
   "cell_type": "code",
   "execution_count": 41,
   "id": "785b995c",
   "metadata": {},
   "outputs": [
    {
     "data": {
      "text/plain": [
       "array([0, 0, 0, 1])"
      ]
     },
     "execution_count": 41,
     "metadata": {},
     "output_type": "execute_result"
    }
   ],
   "source": [
    "first_model.predict(X)"
   ]
  },
  {
   "cell_type": "code",
   "execution_count": null,
   "id": "f07c2659",
   "metadata": {},
   "outputs": [],
   "source": []
  },
  {
   "cell_type": "markdown",
   "id": "d1094670",
   "metadata": {},
   "source": [
    "# #Above was for AND gate now below doing for OR gate"
   ]
  },
  {
   "cell_type": "code",
   "execution_count": 43,
   "id": "2e7a47ae",
   "metadata": {},
   "outputs": [
    {
     "data": {
      "text/html": [
       "<div>\n",
       "<style scoped>\n",
       "    .dataframe tbody tr th:only-of-type {\n",
       "        vertical-align: middle;\n",
       "    }\n",
       "\n",
       "    .dataframe tbody tr th {\n",
       "        vertical-align: top;\n",
       "    }\n",
       "\n",
       "    .dataframe thead th {\n",
       "        text-align: right;\n",
       "    }\n",
       "</style>\n",
       "<table border=\"1\" class=\"dataframe\">\n",
       "  <thead>\n",
       "    <tr style=\"text-align: right;\">\n",
       "      <th></th>\n",
       "      <th>x1</th>\n",
       "      <th>x2</th>\n",
       "      <th>y</th>\n",
       "    </tr>\n",
       "  </thead>\n",
       "  <tbody>\n",
       "    <tr>\n",
       "      <th>0</th>\n",
       "      <td>0</td>\n",
       "      <td>0</td>\n",
       "      <td>0</td>\n",
       "    </tr>\n",
       "    <tr>\n",
       "      <th>1</th>\n",
       "      <td>0</td>\n",
       "      <td>1</td>\n",
       "      <td>1</td>\n",
       "    </tr>\n",
       "    <tr>\n",
       "      <th>2</th>\n",
       "      <td>1</td>\n",
       "      <td>0</td>\n",
       "      <td>1</td>\n",
       "    </tr>\n",
       "    <tr>\n",
       "      <th>3</th>\n",
       "      <td>1</td>\n",
       "      <td>1</td>\n",
       "      <td>1</td>\n",
       "    </tr>\n",
       "  </tbody>\n",
       "</table>\n",
       "</div>"
      ],
      "text/plain": [
       "   x1  x2  y\n",
       "0   0   0  0\n",
       "1   0   1  1\n",
       "2   1   0  1\n",
       "3   1   1  1"
      ]
     },
     "execution_count": 43,
     "metadata": {},
     "output_type": "execute_result"
    }
   ],
   "source": [
    "data2 = {'x1':[0,0,1,1],'x2':[0,1,0,1],'y':[0,1,1,1]}\n",
    "OR = pd.DataFrame(data2)\n",
    "OR"
   ]
  },
  {
   "cell_type": "code",
   "execution_count": 44,
   "id": "889371a3",
   "metadata": {},
   "outputs": [
    {
     "data": {
      "text/plain": [
       "0    0\n",
       "1    1\n",
       "2    1\n",
       "3    1\n",
       "Name: y, dtype: int64"
      ]
     },
     "execution_count": 44,
     "metadata": {},
     "output_type": "execute_result"
    }
   ],
   "source": [
    "yOR=OR['y']\n",
    "yOR"
   ]
  },
  {
   "cell_type": "code",
   "execution_count": 45,
   "id": "3773e7d3",
   "metadata": {},
   "outputs": [
    {
     "data": {
      "text/html": [
       "<div>\n",
       "<style scoped>\n",
       "    .dataframe tbody tr th:only-of-type {\n",
       "        vertical-align: middle;\n",
       "    }\n",
       "\n",
       "    .dataframe tbody tr th {\n",
       "        vertical-align: top;\n",
       "    }\n",
       "\n",
       "    .dataframe thead th {\n",
       "        text-align: right;\n",
       "    }\n",
       "</style>\n",
       "<table border=\"1\" class=\"dataframe\">\n",
       "  <thead>\n",
       "    <tr style=\"text-align: right;\">\n",
       "      <th></th>\n",
       "      <th>x1</th>\n",
       "      <th>x2</th>\n",
       "    </tr>\n",
       "  </thead>\n",
       "  <tbody>\n",
       "    <tr>\n",
       "      <th>0</th>\n",
       "      <td>0</td>\n",
       "      <td>0</td>\n",
       "    </tr>\n",
       "    <tr>\n",
       "      <th>1</th>\n",
       "      <td>0</td>\n",
       "      <td>1</td>\n",
       "    </tr>\n",
       "    <tr>\n",
       "      <th>2</th>\n",
       "      <td>1</td>\n",
       "      <td>0</td>\n",
       "    </tr>\n",
       "    <tr>\n",
       "      <th>3</th>\n",
       "      <td>1</td>\n",
       "      <td>1</td>\n",
       "    </tr>\n",
       "  </tbody>\n",
       "</table>\n",
       "</div>"
      ],
      "text/plain": [
       "   x1  x2\n",
       "0   0   0\n",
       "1   0   1\n",
       "2   1   0\n",
       "3   1   1"
      ]
     },
     "execution_count": 45,
     "metadata": {},
     "output_type": "execute_result"
    }
   ],
   "source": [
    "XOR = OR.drop('y',axis=1)\n",
    "XOR"
   ]
  },
  {
   "cell_type": "code",
   "execution_count": 49,
   "id": "420174e0",
   "metadata": {},
   "outputs": [],
   "source": [
    "OR_model1=Perceptron(epochs =10,alpha = 0.01)"
   ]
  },
  {
   "cell_type": "code",
   "execution_count": 50,
   "id": "04454548",
   "metadata": {},
   "outputs": [
    {
     "name": "stdout",
     "output_type": "stream",
     "text": [
      "weight_initially \n",
      ":[ 2.60774033e-05 -7.98818623e-05 -1.46373822e-04]\n",
      "X-with_bias_initially \n",
      ":[[ 0.  0. -1.]\n",
      " [ 0.  1. -1.]\n",
      " [ 1.  0. -1.]\n",
      " [ 1.  1. -1.]]\n",
      "Epochs no:0\n",
      "Predicted value \n",
      " : [1 1 1 1]\n",
      "Error \n",
      " : 0   -1\n",
      "1    0\n",
      "2    0\n",
      "3    0\n",
      "Name: y, dtype: int64\n",
      "updated weights : [ 2.60774033e-05 -7.98818623e-05  9.85362618e-03]\n",
      "/////////////////////////////////////////////// \n",
      "\n",
      "Epochs no:1\n",
      "Predicted value \n",
      " : [0 0 0 0]\n",
      "Error \n",
      " : 0    0\n",
      "1    1\n",
      "2    1\n",
      "3    1\n",
      "Name: y, dtype: int64\n",
      "updated weights : [ 0.02002608  0.01992012 -0.02014637]\n",
      "/////////////////////////////////////////////// \n",
      "\n",
      "Epochs no:2\n",
      "Predicted value \n",
      " : [1 1 1 1]\n",
      "Error \n",
      " : 0   -1\n",
      "1    0\n",
      "2    0\n",
      "3    0\n",
      "Name: y, dtype: int64\n",
      "updated weights : [ 0.02002608  0.01992012 -0.01014637]\n",
      "/////////////////////////////////////////////// \n",
      "\n",
      "Epochs no:3\n",
      "Predicted value \n",
      " : [1 1 1 1]\n",
      "Error \n",
      " : 0   -1\n",
      "1    0\n",
      "2    0\n",
      "3    0\n",
      "Name: y, dtype: int64\n",
      "updated weights : [ 0.02002608  0.01992012 -0.00014637]\n",
      "/////////////////////////////////////////////// \n",
      "\n",
      "Epochs no:4\n",
      "Predicted value \n",
      " : [1 1 1 1]\n",
      "Error \n",
      " : 0   -1\n",
      "1    0\n",
      "2    0\n",
      "3    0\n",
      "Name: y, dtype: int64\n",
      "updated weights : [0.02002608 0.01992012 0.00985363]\n",
      "/////////////////////////////////////////////// \n",
      "\n",
      "Epochs no:5\n",
      "Predicted value \n",
      " : [0 1 1 1]\n",
      "Error \n",
      " : 0    0\n",
      "1    0\n",
      "2    0\n",
      "3    0\n",
      "Name: y, dtype: int64\n",
      "updated weights : [0.02002608 0.01992012 0.00985363]\n",
      "/////////////////////////////////////////////// \n",
      "\n",
      "Epochs no:6\n",
      "Predicted value \n",
      " : [0 1 1 1]\n",
      "Error \n",
      " : 0    0\n",
      "1    0\n",
      "2    0\n",
      "3    0\n",
      "Name: y, dtype: int64\n",
      "updated weights : [0.02002608 0.01992012 0.00985363]\n",
      "/////////////////////////////////////////////// \n",
      "\n",
      "Epochs no:7\n",
      "Predicted value \n",
      " : [0 1 1 1]\n",
      "Error \n",
      " : 0    0\n",
      "1    0\n",
      "2    0\n",
      "3    0\n",
      "Name: y, dtype: int64\n",
      "updated weights : [0.02002608 0.01992012 0.00985363]\n",
      "/////////////////////////////////////////////// \n",
      "\n",
      "Epochs no:8\n",
      "Predicted value \n",
      " : [0 1 1 1]\n",
      "Error \n",
      " : 0    0\n",
      "1    0\n",
      "2    0\n",
      "3    0\n",
      "Name: y, dtype: int64\n",
      "updated weights : [0.02002608 0.01992012 0.00985363]\n",
      "/////////////////////////////////////////////// \n",
      "\n",
      "Epochs no:9\n",
      "Predicted value \n",
      " : [0 1 1 1]\n",
      "Error \n",
      " : 0    0\n",
      "1    0\n",
      "2    0\n",
      "3    0\n",
      "Name: y, dtype: int64\n",
      "updated weights : [0.02002608 0.01992012 0.00985363]\n",
      "/////////////////////////////////////////////// \n",
      "\n"
     ]
    }
   ],
   "source": [
    "OR_model1.fit(XOR,yOR)"
   ]
  },
  {
   "cell_type": "code",
   "execution_count": 51,
   "id": "c677329a",
   "metadata": {},
   "outputs": [
    {
     "data": {
      "text/plain": [
       "array([0, 1, 1, 1])"
      ]
     },
     "execution_count": 51,
     "metadata": {},
     "output_type": "execute_result"
    }
   ],
   "source": [
    "OR_model1.predict(XOR)"
   ]
  },
  {
   "cell_type": "markdown",
   "id": "caf90aa9",
   "metadata": {},
   "source": [
    "# XOR gate"
   ]
  },
  {
   "cell_type": "code",
   "execution_count": 52,
   "id": "ee3e6ff3",
   "metadata": {},
   "outputs": [],
   "source": [
    "data3 = {'x1':[0,0,1,1],'x2':[0,1,0,1],'y':[0,1,1,0]}\n",
    "XOR = pd.DataFrame(data3)\n",
    "x = XOR.drop('y',axis=1)\n",
    "y = XOR['y']"
   ]
  },
  {
   "cell_type": "code",
   "execution_count": 53,
   "id": "8014b485",
   "metadata": {},
   "outputs": [
    {
     "data": {
      "text/html": [
       "<div>\n",
       "<style scoped>\n",
       "    .dataframe tbody tr th:only-of-type {\n",
       "        vertical-align: middle;\n",
       "    }\n",
       "\n",
       "    .dataframe tbody tr th {\n",
       "        vertical-align: top;\n",
       "    }\n",
       "\n",
       "    .dataframe thead th {\n",
       "        text-align: right;\n",
       "    }\n",
       "</style>\n",
       "<table border=\"1\" class=\"dataframe\">\n",
       "  <thead>\n",
       "    <tr style=\"text-align: right;\">\n",
       "      <th></th>\n",
       "      <th>x1</th>\n",
       "      <th>x2</th>\n",
       "    </tr>\n",
       "  </thead>\n",
       "  <tbody>\n",
       "    <tr>\n",
       "      <th>0</th>\n",
       "      <td>0</td>\n",
       "      <td>0</td>\n",
       "    </tr>\n",
       "    <tr>\n",
       "      <th>1</th>\n",
       "      <td>0</td>\n",
       "      <td>1</td>\n",
       "    </tr>\n",
       "    <tr>\n",
       "      <th>2</th>\n",
       "      <td>1</td>\n",
       "      <td>0</td>\n",
       "    </tr>\n",
       "    <tr>\n",
       "      <th>3</th>\n",
       "      <td>1</td>\n",
       "      <td>1</td>\n",
       "    </tr>\n",
       "  </tbody>\n",
       "</table>\n",
       "</div>"
      ],
      "text/plain": [
       "   x1  x2\n",
       "0   0   0\n",
       "1   0   1\n",
       "2   1   0\n",
       "3   1   1"
      ]
     },
     "execution_count": 53,
     "metadata": {},
     "output_type": "execute_result"
    }
   ],
   "source": [
    "x"
   ]
  },
  {
   "cell_type": "code",
   "execution_count": 54,
   "id": "5e6d24f1",
   "metadata": {},
   "outputs": [
    {
     "data": {
      "text/plain": [
       "0    0\n",
       "1    1\n",
       "2    1\n",
       "3    0\n",
       "Name: y, dtype: int64"
      ]
     },
     "execution_count": 54,
     "metadata": {},
     "output_type": "execute_result"
    }
   ],
   "source": [
    "y"
   ]
  },
  {
   "cell_type": "code",
   "execution_count": 56,
   "id": "7253fcef",
   "metadata": {},
   "outputs": [],
   "source": [
    "OXR_model2=Perceptron(epochs =10,alpha = 0.01)"
   ]
  },
  {
   "cell_type": "code",
   "execution_count": 57,
   "id": "29f91ef3",
   "metadata": {},
   "outputs": [
    {
     "name": "stdout",
     "output_type": "stream",
     "text": [
      "weight_initially \n",
      ":[2.48534543e-05 9.85534825e-05 8.48744128e-05]\n",
      "X-with_bias_initially \n",
      ":[[ 0.  0. -1.]\n",
      " [ 0.  1. -1.]\n",
      " [ 1.  0. -1.]\n",
      " [ 1.  1. -1.]]\n",
      "Epochs no:0\n",
      "Predicted value \n",
      " : [0 1 0 1]\n",
      "Error \n",
      " : 0    0\n",
      "1    0\n",
      "2    1\n",
      "3   -1\n",
      "Name: y, dtype: int64\n",
      "updated weights : [ 2.48534543e-05 -9.90144652e-03  8.48744128e-05]\n",
      "/////////////////////////////////////////////// \n",
      "\n",
      "Epochs no:1\n",
      "Predicted value \n",
      " : [0 0 0 0]\n",
      "Error \n",
      " : 0    0\n",
      "1    1\n",
      "2    1\n",
      "3    0\n",
      "Name: y, dtype: int64\n",
      "updated weights : [ 1.00248535e-02  9.85534825e-05 -1.99151256e-02]\n",
      "/////////////////////////////////////////////// \n",
      "\n",
      "Epochs no:2\n",
      "Predicted value \n",
      " : [1 1 1 1]\n",
      "Error \n",
      " : 0   -1\n",
      "1    0\n",
      "2    0\n",
      "3   -1\n",
      "Name: y, dtype: int64\n",
      "updated weights : [ 2.48534543e-05 -9.90144652e-03  8.48744128e-05]\n",
      "/////////////////////////////////////////////// \n",
      "\n",
      "Epochs no:3\n",
      "Predicted value \n",
      " : [0 0 0 0]\n",
      "Error \n",
      " : 0    0\n",
      "1    1\n",
      "2    1\n",
      "3    0\n",
      "Name: y, dtype: int64\n",
      "updated weights : [ 1.00248535e-02  9.85534825e-05 -1.99151256e-02]\n",
      "/////////////////////////////////////////////// \n",
      "\n",
      "Epochs no:4\n",
      "Predicted value \n",
      " : [1 1 1 1]\n",
      "Error \n",
      " : 0   -1\n",
      "1    0\n",
      "2    0\n",
      "3   -1\n",
      "Name: y, dtype: int64\n",
      "updated weights : [ 2.48534543e-05 -9.90144652e-03  8.48744128e-05]\n",
      "/////////////////////////////////////////////// \n",
      "\n",
      "Epochs no:5\n",
      "Predicted value \n",
      " : [0 0 0 0]\n",
      "Error \n",
      " : 0    0\n",
      "1    1\n",
      "2    1\n",
      "3    0\n",
      "Name: y, dtype: int64\n",
      "updated weights : [ 1.00248535e-02  9.85534825e-05 -1.99151256e-02]\n",
      "/////////////////////////////////////////////// \n",
      "\n",
      "Epochs no:6\n",
      "Predicted value \n",
      " : [1 1 1 1]\n",
      "Error \n",
      " : 0   -1\n",
      "1    0\n",
      "2    0\n",
      "3   -1\n",
      "Name: y, dtype: int64\n",
      "updated weights : [ 2.48534543e-05 -9.90144652e-03  8.48744128e-05]\n",
      "/////////////////////////////////////////////// \n",
      "\n",
      "Epochs no:7\n",
      "Predicted value \n",
      " : [0 0 0 0]\n",
      "Error \n",
      " : 0    0\n",
      "1    1\n",
      "2    1\n",
      "3    0\n",
      "Name: y, dtype: int64\n",
      "updated weights : [ 1.00248535e-02  9.85534825e-05 -1.99151256e-02]\n",
      "/////////////////////////////////////////////// \n",
      "\n",
      "Epochs no:8\n",
      "Predicted value \n",
      " : [1 1 1 1]\n",
      "Error \n",
      " : 0   -1\n",
      "1    0\n",
      "2    0\n",
      "3   -1\n",
      "Name: y, dtype: int64\n",
      "updated weights : [ 2.48534543e-05 -9.90144652e-03  8.48744128e-05]\n",
      "/////////////////////////////////////////////// \n",
      "\n",
      "Epochs no:9\n",
      "Predicted value \n",
      " : [0 0 0 0]\n",
      "Error \n",
      " : 0    0\n",
      "1    1\n",
      "2    1\n",
      "3    0\n",
      "Name: y, dtype: int64\n",
      "updated weights : [ 1.00248535e-02  9.85534825e-05 -1.99151256e-02]\n",
      "/////////////////////////////////////////////// \n",
      "\n"
     ]
    }
   ],
   "source": [
    "OXR_model2.fit(x,y)"
   ]
  },
  {
   "cell_type": "code",
   "execution_count": 60,
   "id": "6454265e",
   "metadata": {},
   "outputs": [
    {
     "data": {
      "text/plain": [
       "array([1, 1, 1, 1])"
      ]
     },
     "execution_count": 60,
     "metadata": {},
     "output_type": "execute_result"
    }
   ],
   "source": [
    "OXR_model2.predict(x)"
   ]
  },
  {
   "cell_type": "markdown",
   "id": "857b8270",
   "metadata": {},
   "source": [
    "# Analysis with graph\n"
   ]
  },
  {
   "cell_type": "code",
   "execution_count": 61,
   "id": "88674e5f",
   "metadata": {},
   "outputs": [
    {
     "data": {
      "text/html": [
       "<div>\n",
       "<style scoped>\n",
       "    .dataframe tbody tr th:only-of-type {\n",
       "        vertical-align: middle;\n",
       "    }\n",
       "\n",
       "    .dataframe tbody tr th {\n",
       "        vertical-align: top;\n",
       "    }\n",
       "\n",
       "    .dataframe thead th {\n",
       "        text-align: right;\n",
       "    }\n",
       "</style>\n",
       "<table border=\"1\" class=\"dataframe\">\n",
       "  <thead>\n",
       "    <tr style=\"text-align: right;\">\n",
       "      <th></th>\n",
       "      <th>x1</th>\n",
       "      <th>x2</th>\n",
       "      <th>y</th>\n",
       "    </tr>\n",
       "  </thead>\n",
       "  <tbody>\n",
       "    <tr>\n",
       "      <th>0</th>\n",
       "      <td>0</td>\n",
       "      <td>0</td>\n",
       "      <td>0</td>\n",
       "    </tr>\n",
       "    <tr>\n",
       "      <th>1</th>\n",
       "      <td>0</td>\n",
       "      <td>1</td>\n",
       "      <td>0</td>\n",
       "    </tr>\n",
       "    <tr>\n",
       "      <th>2</th>\n",
       "      <td>1</td>\n",
       "      <td>0</td>\n",
       "      <td>0</td>\n",
       "    </tr>\n",
       "    <tr>\n",
       "      <th>3</th>\n",
       "      <td>1</td>\n",
       "      <td>1</td>\n",
       "      <td>1</td>\n",
       "    </tr>\n",
       "  </tbody>\n",
       "</table>\n",
       "</div>"
      ],
      "text/plain": [
       "   x1  x2  y\n",
       "0   0   0  0\n",
       "1   0   1  0\n",
       "2   1   0  0\n",
       "3   1   1  1"
      ]
     },
     "execution_count": 61,
     "metadata": {},
     "output_type": "execute_result"
    }
   ],
   "source": [
    "AND"
   ]
  },
  {
   "cell_type": "code",
   "execution_count": 62,
   "id": "31c9c48f",
   "metadata": {},
   "outputs": [
    {
     "data": {
      "text/plain": [
       "[<matplotlib.lines.Line2D at 0x7ff4cfe06550>]"
      ]
     },
     "execution_count": 62,
     "metadata": {},
     "output_type": "execute_result"
    },
    {
     "data": {
      "image/png": "[encoded data removed]",
      "text/plain": [
       "<Figure size 432x288 with 2 Axes>"
      ]
     },
     "metadata": {},
     "output_type": "display_data"
    }
   ],
   "source": [
    "AND.plot(kind='scatter',x='x1',y='x2',c='y' ,cmap='winter' ,s=200)\n",
    "plt.axhline(y=0,color='black',linestyle='--',linewidth=2)\n",
    "plt.axvline(x=0,color='black',linestyle='--',linewidth=2)\n",
    "x=np.linspace(0,1.4)#from 0 to 1.4 50  random values 50 can be changed by specifying\n",
    "y=1.5-1*np.linspace(0,1.4)\n",
    "plt.plot(x,y,'r--')"
   ]
  },
  {
   "cell_type": "code",
   "execution_count": 63,
   "id": "1aa93125",
   "metadata": {},
   "outputs": [
    {
     "data": {
      "text/plain": [
       "<AxesSubplot:xlabel='x1', ylabel='x2'>"
      ]
     },
     "execution_count": 63,
     "metadata": {},
     "output_type": "execute_result"
    },
    {
     "data": {
      "image/png": "[encoded data removed]",
      "text/plain": [
       "<Figure size 432x288 with 2 Axes>"
      ]
     },
     "metadata": {},
     "output_type": "display_data"
    }
   ],
   "source": [
    "OR.plot(kind='scatter',x='x1',y='x2',c='y' ,cmap='winter',s=309)"
   ]
  },
  {
   "cell_type": "code",
   "execution_count": 64,
   "id": "72ab58f3",
   "metadata": {},
   "outputs": [
    {
     "data": {
      "text/plain": [
       "<AxesSubplot:xlabel='x1', ylabel='x2'>"
      ]
     },
     "execution_count": 64,
     "metadata": {},
     "output_type": "execute_result"
    },
    {
     "data": {
      "image/png": "[encoded data removed]",
      "text/plain": [
       "<Figure size 432x288 with 2 Axes>"
      ]
     },
     "metadata": {},
     "output_type": "display_data"
    }
   ],
   "source": [
    "XOR.plot(kind='scatter',x='x1',y='x2',c='y' ,cmap='winter')"
   ]
  },
  {
   "cell_type": "markdown",
   "id": "fa66beed",
   "metadata": {},
   "source": [
    "# Saving Model"
   ]
  },
  {
   "cell_type": "code",
   "execution_count": 65,
   "id": "0031d0f6",
   "metadata": {},
   "outputs": [
    {
     "name": "stdout",
     "output_type": "stream",
     "text": [
      "[0 0 0 1]\n"
     ]
    }
   ],
   "source": [
    "And_model = 'AND_Model.model'\n",
    "joblib.dump(first_model,And_model)\n",
    "\n",
    "#load the model from disk \n",
    "loaded_model =  joblib.load(And_model)\n",
    "result = loaded_model.predict(X)\n",
    "print(result)"
   ]
  },
  {
   "cell_type": "markdown",
   "id": "3c087df7",
   "metadata": {},
   "source": [
    "# Saving model making own directory "
   ]
  },
  {
   "cell_type": "code",
   "execution_count": 66,
   "id": "48802295",
   "metadata": {},
   "outputs": [
    {
     "data": {
      "text/plain": [
       "['model/OR_model.model']"
      ]
     },
     "execution_count": 66,
     "metadata": {},
     "output_type": "execute_result"
    }
   ],
   "source": [
    "import os\n",
    "OR_model =  'OR_model.model'\n",
    "dir_ = 'model'\n",
    "os.makedirs(dir_,exist_ok=True)\n",
    "OR_model = os.path.join(dir_,OR_model)\n",
    "joblib.dump(OR_model1,OR_model)"
   ]
  },
  {
   "cell_type": "code",
   "execution_count": null,
   "id": "cd5894e5",
   "metadata": {},
   "outputs": [],
   "source": []
  }
 ],
 "metadata": {
  "kernelspec": {
   "display_name": "Python 3 (ipykernel)",
   "language": "python",
   "name": "python3"
  },
  "language_info": {
   "codemirror_mode": {
    "name": "ipython",
    "version": 3
   },
   "file_extension": ".py",
   "mimetype": "text/x-python",
   "name": "python",
   "nbconvert_exporter": "python",
   "pygments_lexer": "ipython3",
   "version": "3.9.7"
  }
 },
 "nbformat": 4,
 "nbformat_minor": 5
}
