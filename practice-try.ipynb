{
 "cells": [
  {
   "cell_type": "code",
   "execution_count": 7,
   "id": "8e4930ed",
   "metadata": {},
   "outputs": [],
   "source": [
    "a={}\n"
   ]
  },
  {
   "cell_type": "code",
   "execution_count": 8,
   "id": "e8d02166",
   "metadata": {},
   "outputs": [],
   "source": [
    "b={'1:0Am':'Task1','2:0Am':'Task2','3:0Am':'Task3','4:0Am':'Task4'}"
   ]
  },
  {
   "cell_type": "code",
   "execution_count": 9,
   "id": "ef24416b",
   "metadata": {},
   "outputs": [],
   "source": [
    "c={'1:0Am':'Task1','2:0Am':'Task2'}"
   ]
  },
  {
   "cell_type": "code",
   "execution_count": 11,
   "id": "688538df",
   "metadata": {},
   "outputs": [],
   "source": [
    "a['Sunday']=b"
   ]
  },
  {
   "cell_type": "code",
   "execution_count": 12,
   "id": "cda350a2",
   "metadata": {},
   "outputs": [
    {
     "data": {
      "text/plain": [
       "{'Sunday': {'1:0Am': 'Task1',\n",
       "  '2:0Am': 'Task2',\n",
       "  '3:0Am': 'Task3',\n",
       "  '4:0Am': 'Task4'}}"
      ]
     },
     "execution_count": 12,
     "metadata": {},
     "output_type": "execute_result"
    }
   ],
   "source": [
    "a"
   ]
  },
  {
   "cell_type": "code",
   "execution_count": 1,
   "id": "ae162e3a",
   "metadata": {},
   "outputs": [
    {
     "ename": "NameError",
     "evalue": "name 'a' is not defined",
     "output_type": "error",
     "traceback": [
      "\u001b[0;31m---------------------------------------------------------------------------\u001b[0m",
      "\u001b[0;31mNameError\u001b[0m                                 Traceback (most recent call last)",
      "\u001b[0;32m/tmp/ipykernel_3303/2450856338.py\u001b[0m in \u001b[0;36m<module>\u001b[0;34m\u001b[0m\n\u001b[0;32m----> 1\u001b[0;31m \u001b[0ma\u001b[0m\u001b[0;34m.\u001b[0m\u001b[0mappend\u001b[0m\u001b[0;34m\u001b[0m\u001b[0;34m\u001b[0m\u001b[0m\n\u001b[0m",
      "\u001b[0;31mNameError\u001b[0m: name 'a' is not defined"
     ]
    }
   ],
   "source": [
    "a.append"
   ]
  },
  {
   "cell_type": "code",
   "execution_count": 2,
   "id": "b7efc302",
   "metadata": {},
   "outputs": [],
   "source": [
    "a='Sunday'"
   ]
  },
  {
   "cell_type": "code",
   "execution_count": 3,
   "id": "7271c7a2",
   "metadata": {},
   "outputs": [
    {
     "name": "stdout",
     "output_type": "stream",
     "text": [
      "sunday\n"
     ]
    }
   ],
   "source": [
    "print(a.casefold())"
   ]
  },
  {
   "cell_type": "code",
   "execution_count": 4,
   "id": "a34b11d2",
   "metadata": {},
   "outputs": [
    {
     "name": "stdout",
     "output_type": "stream",
     "text": [
      "Enter the day\n"
     ]
    },
    {
     "ename": "Exception",
     "evalue": "('', 'is not a valid day')",
     "output_type": "error",
     "traceback": [
      "\u001b[0;31m---------------------------------------------------------------------------\u001b[0m",
      "\u001b[0;31mException\u001b[0m                                 Traceback (most recent call last)",
      "\u001b[0;32m/tmp/ipykernel_3303/1175501379.py\u001b[0m in \u001b[0;36m<module>\u001b[0;34m\u001b[0m\n\u001b[1;32m      2\u001b[0m \u001b[0mday\u001b[0m \u001b[0;34m=\u001b[0m \u001b[0minput\u001b[0m\u001b[0;34m(\u001b[0m\u001b[0;34m\"Enter the day\"\u001b[0m\u001b[0;34m)\u001b[0m\u001b[0;34m\u001b[0m\u001b[0;34m\u001b[0m\u001b[0m\n\u001b[1;32m      3\u001b[0m \u001b[0;32mif\u001b[0m \u001b[0mday\u001b[0m\u001b[0;34m.\u001b[0m\u001b[0mcasefold\u001b[0m\u001b[0;34m(\u001b[0m\u001b[0;34m)\u001b[0m \u001b[0;32mnot\u001b[0m \u001b[0;32min\u001b[0m \u001b[0mdays\u001b[0m\u001b[0;34m:\u001b[0m\u001b[0;34m\u001b[0m\u001b[0;34m\u001b[0m\u001b[0m\n\u001b[0;32m----> 4\u001b[0;31m             \u001b[0;32mraise\u001b[0m \u001b[0mException\u001b[0m \u001b[0;34m(\u001b[0m\u001b[0mday\u001b[0m\u001b[0;34m,\u001b[0m\u001b[0;34m\"is not a valid day\"\u001b[0m\u001b[0;34m)\u001b[0m\u001b[0;34m\u001b[0m\u001b[0;34m\u001b[0m\u001b[0m\n\u001b[0m",
      "\u001b[0;31mException\u001b[0m: ('', 'is not a valid day')"
     ]
    }
   ],
   "source": [
    "days=['sunday','monday','tuesday','wedbesday','thursday','friday','saturday']\n",
    "day = input(\"Enter the day\")\n",
    "if day.casefold() not in days:\n",
    "            raise Exception (day,\"is not a valid day\")"
   ]
  },
  {
   "cell_type": "code",
   "execution_count": 5,
   "id": "ea2c89ca",
   "metadata": {},
   "outputs": [],
   "source": [
    "b={'1:0Am':'Task1','2:0Am':'Task2','3:0Am':'Task3','4:0Am':'Task4'}\n",
    "z=list(b.items())"
   ]
  },
  {
   "cell_type": "code",
   "execution_count": 19,
   "id": "fd9e5f2c",
   "metadata": {},
   "outputs": [
    {
     "data": {
      "text/plain": [
       "[('1:0Am', 'Task1'),\n",
       " ('2:0Am', 'Task2'),\n",
       " ('3:0Am', 'Task3'),\n",
       " ('4:0Am', 'Task4')]"
      ]
     },
     "execution_count": 19,
     "metadata": {},
     "output_type": "execute_result"
    }
   ],
   "source": [
    "z"
   ]
  },
  {
   "cell_type": "code",
   "execution_count": 6,
   "id": "7c1b5ccd",
   "metadata": {},
   "outputs": [],
   "source": [
    "import numpy as np"
   ]
  },
  {
   "cell_type": "code",
   "execution_count": 13,
   "id": "06bc46f2",
   "metadata": {},
   "outputs": [],
   "source": [
    "a =  np.array([[12,3,4,5,7],[23,5,6,77,88],[12,3,4,5,7],[23,5,6,77,88],[12,3,4,5,7],[23,5,6,77,88],[12,3,4,5,7],[23,5,6,77,88],])"
   ]
  },
  {
   "cell_type": "code",
   "execution_count": null,
   "id": "7d335399",
   "metadata": {},
   "outputs": [],
   "source": []
  },
  {
   "cell_type": "code",
   "execution_count": 14,
   "id": "a1d78267",
   "metadata": {},
   "outputs": [
    {
     "data": {
      "text/plain": [
       "array([[12,  3,  4,  5,  7],\n",
       "       [23,  5,  6, 77, 88],\n",
       "       [12,  3,  4,  5,  7],\n",
       "       [23,  5,  6, 77, 88],\n",
       "       [12,  3,  4,  5,  7],\n",
       "       [23,  5,  6, 77, 88],\n",
       "       [12,  3,  4,  5,  7],\n",
       "       [23,  5,  6, 77, 88]])"
      ]
     },
     "execution_count": 14,
     "metadata": {},
     "output_type": "execute_result"
    }
   ],
   "source": [
    "a"
   ]
  },
  {
   "cell_type": "code",
   "execution_count": null,
   "id": "dbe17711",
   "metadata": {},
   "outputs": [],
   "source": []
  }
 ],
 "metadata": {
  "kernelspec": {
   "display_name": "Python 3 (ipykernel)",
   "language": "python",
   "name": "python3"
  },
  "language_info": {
   "codemirror_mode": {
    "name": "ipython",
    "version": 3
   },
   "file_extension": ".py",
   "mimetype": "text/x-python",
   "name": "python",
   "nbconvert_exporter": "python",
   "pygments_lexer": "ipython3",
   "version": "3.9.7"
  }
 },
 "nbformat": 4,
 "nbformat_minor": 5
}
