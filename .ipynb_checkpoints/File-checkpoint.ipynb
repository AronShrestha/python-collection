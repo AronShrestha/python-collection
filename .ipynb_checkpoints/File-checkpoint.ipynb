{
 "cells": [
  {
   "cell_type": "code",
   "execution_count": 21,
   "id": "5d7c691f",
   "metadata": {},
   "outputs": [],
   "source": [
    "f = open('aron.txt','w')"
   ]
  },
  {
   "cell_type": "code",
   "execution_count": 22,
   "id": "a09f5b1c",
   "metadata": {},
   "outputs": [],
   "source": [
    "import os"
   ]
  },
  {
   "cell_type": "code",
   "execution_count": 23,
   "id": "5a8fb711",
   "metadata": {},
   "outputs": [
    {
     "data": {
      "text/plain": [
       "'/home/aron/Python'"
      ]
     },
     "execution_count": 23,
     "metadata": {},
     "output_type": "execute_result"
    }
   ],
   "source": [
    "os.getcwd()"
   ]
  },
  {
   "cell_type": "code",
   "execution_count": 24,
   "id": "b4ccdefd",
   "metadata": {},
   "outputs": [
    {
     "data": {
      "text/plain": [
       "23"
      ]
     },
     "execution_count": 24,
     "metadata": {},
     "output_type": "execute_result"
    }
   ],
   "source": [
    "f.write(r\"My name is AronShrestha\")"
   ]
  },
  {
   "cell_type": "code",
   "execution_count": 25,
   "id": "42e19482",
   "metadata": {},
   "outputs": [],
   "source": [
    "f.close()"
   ]
  },
  {
   "cell_type": "code",
   "execution_count": 26,
   "id": "95c5275e",
   "metadata": {},
   "outputs": [],
   "source": [
    "f = open('aron.txt')"
   ]
  },
  {
   "cell_type": "code",
   "execution_count": 27,
   "id": "95acb840",
   "metadata": {},
   "outputs": [
    {
     "data": {
      "text/plain": [
       "'My name is AronShrestha'"
      ]
     },
     "execution_count": 27,
     "metadata": {},
     "output_type": "execute_result"
    }
   ],
   "source": [
    "f.read()"
   ]
  },
  {
   "cell_type": "code",
   "execution_count": 28,
   "id": "0d4278dd",
   "metadata": {},
   "outputs": [
    {
     "data": {
      "text/plain": [
       "5"
      ]
     },
     "execution_count": 28,
     "metadata": {},
     "output_type": "execute_result"
    }
   ],
   "source": [
    "f.seek(5)"
   ]
  },
  {
   "cell_type": "code",
   "execution_count": 29,
   "id": "070abd48",
   "metadata": {},
   "outputs": [
    {
     "data": {
      "text/plain": [
       "'me is AronShrestha'"
      ]
     },
     "execution_count": 29,
     "metadata": {},
     "output_type": "execute_result"
    }
   ],
   "source": [
    "f.read()"
   ]
  },
  {
   "cell_type": "code",
   "execution_count": 30,
   "id": "ed4cb9cf",
   "metadata": {},
   "outputs": [
    {
     "data": {
      "text/plain": [
       "''"
      ]
     },
     "execution_count": 30,
     "metadata": {},
     "output_type": "execute_result"
    }
   ],
   "source": [
    "f.read()"
   ]
  },
  {
   "cell_type": "code",
   "execution_count": 31,
   "id": "972ceae2",
   "metadata": {},
   "outputs": [
    {
     "data": {
      "text/plain": [
       "2"
      ]
     },
     "execution_count": 31,
     "metadata": {},
     "output_type": "execute_result"
    }
   ],
   "source": [
    "f.seek(2)"
   ]
  },
  {
   "cell_type": "code",
   "execution_count": 32,
   "id": "04776670",
   "metadata": {},
   "outputs": [
    {
     "data": {
      "text/plain": [
       "' name is AronShrestha'"
      ]
     },
     "execution_count": 32,
     "metadata": {},
     "output_type": "execute_result"
    }
   ],
   "source": [
    "f.read()"
   ]
  },
  {
   "cell_type": "code",
   "execution_count": 33,
   "id": "769ce69c",
   "metadata": {},
   "outputs": [],
   "source": [
    "f =open('aron.txt','r')\n"
   ]
  },
  {
   "cell_type": "code",
   "execution_count": 34,
   "id": "2d20b81c",
   "metadata": {},
   "outputs": [
    {
     "ename": "UnsupportedOperation",
     "evalue": "not writable",
     "output_type": "error",
     "traceback": [
      "\u001b[0;31m---------------------------------------------------------------------------\u001b[0m",
      "\u001b[0;31mUnsupportedOperation\u001b[0m                      Traceback (most recent call last)",
      "\u001b[0;32m/tmp/ipykernel_4098/3732759884.py\u001b[0m in \u001b[0;36m<module>\u001b[0;34m\u001b[0m\n\u001b[0;32m----> 1\u001b[0;31m \u001b[0mf\u001b[0m\u001b[0;34m.\u001b[0m\u001b[0mwrite\u001b[0m\u001b[0;34m(\u001b[0m\u001b[0;34m\"sdjfildf;\"\u001b[0m\u001b[0;34m)\u001b[0m\u001b[0;34m\u001b[0m\u001b[0;34m\u001b[0m\u001b[0m\n\u001b[0m",
      "\u001b[0;31mUnsupportedOperation\u001b[0m: not writable"
     ]
    }
   ],
   "source": [
    "f.write(\"sdjfildf;\")"
   ]
  },
  {
   "cell_type": "code",
   "execution_count": 35,
   "id": "5037b84e",
   "metadata": {},
   "outputs": [
    {
     "data": {
      "text/plain": [
       "'My name is AronShrestha'"
      ]
     },
     "execution_count": 35,
     "metadata": {},
     "output_type": "execute_result"
    }
   ],
   "source": [
    "f.read()"
   ]
  },
  {
   "cell_type": "code",
   "execution_count": 36,
   "id": "c1b9f3e1",
   "metadata": {},
   "outputs": [],
   "source": [
    "f.close()"
   ]
  },
  {
   "cell_type": "code",
   "execution_count": 37,
   "id": "8d643841",
   "metadata": {},
   "outputs": [],
   "source": [
    "f = open('aron.txt','a')"
   ]
  },
  {
   "cell_type": "code",
   "execution_count": 38,
   "id": "294e7117",
   "metadata": {},
   "outputs": [
    {
     "data": {
      "text/plain": [
       "10"
      ]
     },
     "execution_count": 38,
     "metadata": {},
     "output_type": "execute_result"
    }
   ],
   "source": [
    "f.write(\"9814356151\")"
   ]
  },
  {
   "cell_type": "code",
   "execution_count": 39,
   "id": "a7d8402b",
   "metadata": {},
   "outputs": [],
   "source": [
    "f.close()"
   ]
  },
  {
   "cell_type": "code",
   "execution_count": 42,
   "id": "294ae80e",
   "metadata": {},
   "outputs": [],
   "source": [
    "f = open('aron.txt','r')"
   ]
  },
  {
   "cell_type": "code",
   "execution_count": 43,
   "id": "e262deae",
   "metadata": {},
   "outputs": [
    {
     "name": "stdout",
     "output_type": "stream",
     "text": [
      "1\n",
      "My name is AronShrestha\n",
      "\n",
      "1\n",
      "asd\n",
      "\n",
      "1\n",
      "d\n",
      "\n",
      "1\n",
      "ad\n",
      "\n",
      "1\n",
      "asd\n",
      "\n",
      "1\n",
      "sa\n",
      "\n",
      "1\n",
      "dsa\n",
      "\n",
      "1\n",
      "d\n",
      "\n",
      "1\n",
      "asd\n",
      "\n",
      "1\n",
      "sa\n",
      "\n",
      "1\n",
      "dsa\n",
      "\n",
      "1\n",
      "d\n",
      "\n",
      "1\n",
      "sad\n",
      "\n",
      "1\n",
      "sa\n",
      "\n",
      "1\n",
      "da\n",
      "\n",
      "1\n",
      "da\n",
      "\n"
     ]
    }
   ],
   "source": [
    "for i in  f:\n",
    "    print(\"1\")\n",
    "    print(i)"
   ]
  },
  {
   "cell_type": "code",
   "execution_count": 45,
   "id": "829812f4",
   "metadata": {},
   "outputs": [],
   "source": [
    "f.close()"
   ]
  },
  {
   "cell_type": "code",
   "execution_count": 46,
   "id": "cdd5640c",
   "metadata": {},
   "outputs": [],
   "source": [
    "f = open('aron.txt','r')"
   ]
  },
  {
   "cell_type": "code",
   "execution_count": 47,
   "id": "2abe99ba",
   "metadata": {},
   "outputs": [
    {
     "data": {
      "text/plain": [
       "['My name is AronShrestha\\n',\n",
       " 'asd\\n',\n",
       " 'd\\n',\n",
       " 'ad\\n',\n",
       " 'asd\\n',\n",
       " 'sa\\n',\n",
       " 'dsa\\n',\n",
       " 'd\\n',\n",
       " 'asd\\n',\n",
       " 'sa\\n',\n",
       " 'dsa\\n',\n",
       " 'd\\n',\n",
       " 'sad\\n',\n",
       " 'sa\\n',\n",
       " 'da\\n',\n",
       " 'da\\n']"
      ]
     },
     "execution_count": 47,
     "metadata": {},
     "output_type": "execute_result"
    }
   ],
   "source": [
    "list(f)"
   ]
  },
  {
   "cell_type": "code",
   "execution_count": 48,
   "id": "70bd6407",
   "metadata": {},
   "outputs": [],
   "source": [
    "#for read and write both\n",
    "f = open('aron.txt','r+')"
   ]
  },
  {
   "cell_type": "code",
   "execution_count": 49,
   "id": "1c675ec5",
   "metadata": {},
   "outputs": [
    {
     "data": {
      "text/plain": [
       "6"
      ]
     },
     "execution_count": 49,
     "metadata": {},
     "output_type": "execute_result"
    }
   ],
   "source": [
    "f.write(\"AAAAAA\")"
   ]
  },
  {
   "cell_type": "code",
   "execution_count": 51,
   "id": "b7b33735",
   "metadata": {},
   "outputs": [
    {
     "data": {
      "text/plain": [
       "'e is AronShrestha\\nasd\\nd\\nad\\nasd\\nsa\\ndsa\\nd\\nasd\\nsa\\ndsa\\nd\\nsad\\nsa\\nda\\nda\\n'"
      ]
     },
     "execution_count": 51,
     "metadata": {},
     "output_type": "execute_result"
    }
   ],
   "source": [
    "f.read()"
   ]
  },
  {
   "cell_type": "code",
   "execution_count": 52,
   "id": "3f5a49c3",
   "metadata": {},
   "outputs": [
    {
     "data": {
      "text/plain": [
       "'/home/aron/Python'"
      ]
     },
     "execution_count": 52,
     "metadata": {},
     "output_type": "execute_result"
    }
   ],
   "source": [
    "pwd()"
   ]
  },
  {
   "cell_type": "code",
   "execution_count": 54,
   "id": "45bc2d01",
   "metadata": {},
   "outputs": [
    {
     "data": {
      "text/plain": [
       "'/home/aron/Python'"
      ]
     },
     "execution_count": 54,
     "metadata": {},
     "output_type": "execute_result"
    }
   ],
   "source": [
    "os.getcwd()"
   ]
  },
  {
   "cell_type": "code",
   "execution_count": null,
   "id": "03e05303",
   "metadata": {
    "collapsed": true
   },
   "outputs": [],
   "source": []
  }
 ],
 "metadata": {
  "kernelspec": {
   "display_name": "Python 3 (ipykernel)",
   "language": "python",
   "name": "python3"
  },
  "language_info": {
   "codemirror_mode": {
    "name": "ipython",
    "version": 3
   },
   "file_extension": ".py",
   "mimetype": "text/x-python",
   "name": "python",
   "nbconvert_exporter": "python",
   "pygments_lexer": "ipython3",
   "version": "3.9.7"
  }
 },
 "nbformat": 4,
 "nbformat_minor": 5
}
