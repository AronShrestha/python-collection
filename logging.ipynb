{
 "cells": [
  {
   "cell_type": "markdown",
   "id": "3b41233e",
   "metadata": {},
   "source": [
    "# Debug =detail information of something\n",
    "# Info = Some information\n",
    "# Warning = Giving warning messages\n",
    "# Error = \n",
    "# Critical = "
   ]
  },
  {
   "cell_type": "code",
   "execution_count": 1,
   "id": "f33345c0",
   "metadata": {},
   "outputs": [],
   "source": [
    "import logging as lg\n",
    "import os"
   ]
  },
  {
   "cell_type": "code",
   "execution_count": null,
   "id": "bf6473bf",
   "metadata": {},
   "outputs": [],
   "source": []
  },
  {
   "cell_type": "code",
   "execution_count": null,
   "id": "88ba6d45",
   "metadata": {},
   "outputs": [],
   "source": []
  },
  {
   "cell_type": "code",
   "execution_count": 2,
   "id": "bdaf7c8b",
   "metadata": {},
   "outputs": [
    {
     "data": {
      "text/plain": [
       "40"
      ]
     },
     "execution_count": 2,
     "metadata": {},
     "output_type": "execute_result"
    }
   ],
   "source": [
    "lg.ERROR"
   ]
  },
  {
   "cell_type": "code",
   "execution_count": 3,
   "id": "816eed8e",
   "metadata": {},
   "outputs": [
    {
     "data": {
      "text/plain": [
       "'/home/aron/Python'"
      ]
     },
     "execution_count": 3,
     "metadata": {},
     "output_type": "execute_result"
    }
   ],
   "source": [
    "pwd"
   ]
  },
  {
   "cell_type": "code",
   "execution_count": 4,
   "id": "7a487a74",
   "metadata": {},
   "outputs": [],
   "source": [
    "#os.mkdir('logging')"
   ]
  },
  {
   "cell_type": "code",
   "execution_count": 5,
   "id": "2af4cb15",
   "metadata": {},
   "outputs": [],
   "source": [
    "#os.chdir(os.getcwd()+'/'+'logging')"
   ]
  },
  {
   "cell_type": "code",
   "execution_count": 6,
   "id": "a4f66aa2",
   "metadata": {},
   "outputs": [
    {
     "data": {
      "text/plain": [
       "'/home/aron/Python'"
      ]
     },
     "execution_count": 6,
     "metadata": {},
     "output_type": "execute_result"
    }
   ],
   "source": [
    "os.getcwd()"
   ]
  },
  {
   "cell_type": "code",
   "execution_count": 8,
   "id": "cf5634d5",
   "metadata": {},
   "outputs": [],
   "source": [
    "lg.basicConfig(filename = 'test.log',level = lg.INFO)"
   ]
  },
  {
   "cell_type": "code",
   "execution_count": 9,
   "id": "dcd9bb35",
   "metadata": {},
   "outputs": [],
   "source": [
    "lg.info('I am starting my program')"
   ]
  },
  {
   "cell_type": "code",
   "execution_count": 10,
   "id": "c1386992",
   "metadata": {},
   "outputs": [],
   "source": [
    "lg.warning(\"This is my first warning of muy program\")"
   ]
  },
  {
   "cell_type": "code",
   "execution_count": 11,
   "id": "cc1b3c34",
   "metadata": {},
   "outputs": [],
   "source": [
    "lg.error(\"Error first\")"
   ]
  },
  {
   "cell_type": "code",
   "execution_count": 12,
   "id": "8033824d",
   "metadata": {},
   "outputs": [],
   "source": [
    "def div(n1,n2):\n",
    "    try:\n",
    "        lg.info(n1,n2)\n",
    "        return n1/n2\n",
    "    except Exception as e:\n",
    "        print(\"Error , check log for more info\")\n",
    "        lg.error(\"An error has occured detail below\")\n",
    "        lg.exception(str(e))\n",
    "        "
   ]
  },
  {
   "cell_type": "code",
   "execution_count": 13,
   "id": "1c13f228",
   "metadata": {},
   "outputs": [],
   "source": [
    "lg.info(\"Informaqtion\")\n",
    "lg.exception(\"Excpo\")\n",
    "lg.critical(\"Critical log\")\n",
    "lg.error(\"TE\")"
   ]
  },
  {
   "cell_type": "code",
   "execution_count": null,
   "id": "b3c8cab4",
   "metadata": {},
   "outputs": [],
   "source": []
  },
  {
   "cell_type": "code",
   "execution_count": null,
   "id": "0aced591",
   "metadata": {},
   "outputs": [],
   "source": [
    "a = div(9,0)"
   ]
  },
  {
   "cell_type": "code",
   "execution_count": null,
   "id": "8debbf41",
   "metadata": {},
   "outputs": [],
   "source": [
    "lg.shutdown()"
   ]
  },
  {
   "cell_type": "code",
   "execution_count": null,
   "id": "8d34d48a",
   "metadata": {},
   "outputs": [],
   "source": [
    "#lg.basicConfig(filename = 'test2.log',level = lg.ERROR , format = '%(asctime)s %(message)s')"
   ]
  },
  {
   "cell_type": "code",
   "execution_count": null,
   "id": "3d4ca713",
   "metadata": {},
   "outputs": [],
   "source": []
  },
  {
   "cell_type": "code",
   "execution_count": null,
   "id": "967c620b",
   "metadata": {},
   "outputs": [],
   "source": [
    "\n",
    "        "
   ]
  },
  {
   "cell_type": "code",
   "execution_count": null,
   "id": "0ccb2936",
   "metadata": {},
   "outputs": [],
   "source": []
  },
  {
   "cell_type": "code",
   "execution_count": null,
   "id": "8518a9d8",
   "metadata": {},
   "outputs": [],
   "source": []
  }
 ],
 "metadata": {
  "kernelspec": {
   "display_name": "Python 3 (ipykernel)",
   "language": "python",
   "name": "python3"
  },
  "language_info": {
   "codemirror_mode": {
    "name": "ipython",
    "version": 3
   },
   "file_extension": ".py",
   "mimetype": "text/x-python",
   "name": "python",
   "nbconvert_exporter": "python",
   "pygments_lexer": "ipython3",
   "version": "3.9.7"
  }
 },
 "nbformat": 4,
 "nbformat_minor": 5
}
