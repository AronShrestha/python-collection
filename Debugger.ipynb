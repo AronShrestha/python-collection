{
 "cells": [
  {
   "cell_type": "code",
   "execution_count": 1,
   "id": "238c4772",
   "metadata": {},
   "outputs": [],
   "source": [
    "import ipdb"
   ]
  },
  {
   "cell_type": "code",
   "execution_count": 2,
   "id": "5c07676b",
   "metadata": {},
   "outputs": [],
   "source": [
    "def testdebug():\n",
    "    ipdb.set_trace()\n",
    "    l =[]\n",
    "    for i  in range(10):\n",
    "        l.append(i)\n",
    "        print(\"Appended your data in list\")\n",
    "    \n",
    "    return l"
   ]
  },
  {
   "cell_type": "code",
   "execution_count": 3,
   "id": "535a1c9e",
   "metadata": {},
   "outputs": [
    {
     "name": "stdout",
     "output_type": "stream",
     "text": [
      "> \u001b[0;32m/tmp/ipykernel_4684/3611228441.py\u001b[0m(3)\u001b[0;36mtestdebug\u001b[0;34m()\u001b[0m\n",
      "\u001b[0;32m      2 \u001b[0;31m    \u001b[0mipdb\u001b[0m\u001b[0;34m.\u001b[0m\u001b[0mset_trace\u001b[0m\u001b[0;34m(\u001b[0m\u001b[0;34m)\u001b[0m\u001b[0;34m\u001b[0m\u001b[0;34m\u001b[0m\u001b[0m\n",
      "\u001b[0m\u001b[0;32m----> 3 \u001b[0;31m    \u001b[0ml\u001b[0m \u001b[0;34m=\u001b[0m\u001b[0;34m[\u001b[0m\u001b[0;34m]\u001b[0m\u001b[0;34m\u001b[0m\u001b[0;34m\u001b[0m\u001b[0m\n",
      "\u001b[0m\u001b[0;32m      4 \u001b[0;31m    \u001b[0;32mfor\u001b[0m \u001b[0mi\u001b[0m  \u001b[0;32min\u001b[0m \u001b[0mrange\u001b[0m\u001b[0;34m(\u001b[0m\u001b[0;36m10\u001b[0m\u001b[0;34m)\u001b[0m\u001b[0;34m:\u001b[0m\u001b[0;34m\u001b[0m\u001b[0;34m\u001b[0m\u001b[0m\n",
      "\u001b[0m\n",
      "ipdb> c\n",
      "Appended your data in list\n",
      "Appended your data in list\n",
      "Appended your data in list\n",
      "Appended your data in list\n",
      "Appended your data in list\n",
      "Appended your data in list\n",
      "Appended your data in list\n",
      "Appended your data in list\n",
      "Appended your data in list\n",
      "Appended your data in list\n"
     ]
    },
    {
     "data": {
      "text/plain": [
       "[0, 1, 2, 3, 4, 5, 6, 7, 8, 9]"
      ]
     },
     "execution_count": 3,
     "metadata": {},
     "output_type": "execute_result"
    }
   ],
   "source": [
    "testdebug()"
   ]
  },
  {
   "cell_type": "code",
   "execution_count": 4,
   "id": "28bd39ff",
   "metadata": {},
   "outputs": [],
   "source": [
    "def testdebug1():\n",
    "    ipdb.set_trace()\n",
    "    l =[]\n",
    "    for i  in range(10):\n",
    "        for k in range(4):\n",
    "            l.append(i)\n",
    "            if k== 2:\n",
    "                continue\n",
    "            print(f\"Appended your data in list no {i}\")\n",
    "    \n",
    "    return l"
   ]
  },
  {
   "cell_type": "code",
   "execution_count": 5,
   "id": "d9f3289b",
   "metadata": {},
   "outputs": [
    {
     "name": "stdout",
     "output_type": "stream",
     "text": [
      "> \u001b[0;32m/tmp/ipykernel_4684/2168637848.py\u001b[0m(3)\u001b[0;36mtestdebug1\u001b[0;34m()\u001b[0m\n",
      "\u001b[0;32m      2 \u001b[0;31m    \u001b[0mipdb\u001b[0m\u001b[0;34m.\u001b[0m\u001b[0mset_trace\u001b[0m\u001b[0;34m(\u001b[0m\u001b[0;34m)\u001b[0m\u001b[0;34m\u001b[0m\u001b[0;34m\u001b[0m\u001b[0m\n",
      "\u001b[0m\u001b[0;32m----> 3 \u001b[0;31m    \u001b[0ml\u001b[0m \u001b[0;34m=\u001b[0m\u001b[0;34m[\u001b[0m\u001b[0;34m]\u001b[0m\u001b[0;34m\u001b[0m\u001b[0;34m\u001b[0m\u001b[0m\n",
      "\u001b[0m\u001b[0;32m      4 \u001b[0;31m    \u001b[0;32mfor\u001b[0m \u001b[0mi\u001b[0m  \u001b[0;32min\u001b[0m \u001b[0mrange\u001b[0m\u001b[0;34m(\u001b[0m\u001b[0;36m10\u001b[0m\u001b[0;34m)\u001b[0m\u001b[0;34m:\u001b[0m\u001b[0;34m\u001b[0m\u001b[0;34m\u001b[0m\u001b[0m\n",
      "\u001b[0m\n",
      "ipdb> c\n",
      "Appended your data in list no 0\n",
      "Appended your data in list no 0\n",
      "Appended your data in list no 0\n",
      "Appended your data in list no 1\n",
      "Appended your data in list no 1\n",
      "Appended your data in list no 1\n",
      "Appended your data in list no 2\n",
      "Appended your data in list no 2\n",
      "Appended your data in list no 2\n",
      "Appended your data in list no 3\n",
      "Appended your data in list no 3\n",
      "Appended your data in list no 3\n",
      "Appended your data in list no 4\n",
      "Appended your data in list no 4\n",
      "Appended your data in list no 4\n",
      "Appended your data in list no 5\n",
      "Appended your data in list no 5\n",
      "Appended your data in list no 5\n",
      "Appended your data in list no 6\n",
      "Appended your data in list no 6\n",
      "Appended your data in list no 6\n",
      "Appended your data in list no 7\n",
      "Appended your data in list no 7\n",
      "Appended your data in list no 7\n",
      "Appended your data in list no 8\n",
      "Appended your data in list no 8\n",
      "Appended your data in list no 8\n",
      "Appended your data in list no 9\n",
      "Appended your data in list no 9\n",
      "Appended your data in list no 9\n"
     ]
    },
    {
     "data": {
      "text/plain": [
       "[0,\n",
       " 0,\n",
       " 0,\n",
       " 0,\n",
       " 1,\n",
       " 1,\n",
       " 1,\n",
       " 1,\n",
       " 2,\n",
       " 2,\n",
       " 2,\n",
       " 2,\n",
       " 3,\n",
       " 3,\n",
       " 3,\n",
       " 3,\n",
       " 4,\n",
       " 4,\n",
       " 4,\n",
       " 4,\n",
       " 5,\n",
       " 5,\n",
       " 5,\n",
       " 5,\n",
       " 6,\n",
       " 6,\n",
       " 6,\n",
       " 6,\n",
       " 7,\n",
       " 7,\n",
       " 7,\n",
       " 7,\n",
       " 8,\n",
       " 8,\n",
       " 8,\n",
       " 8,\n",
       " 9,\n",
       " 9,\n",
       " 9,\n",
       " 9]"
      ]
     },
     "execution_count": 5,
     "metadata": {},
     "output_type": "execute_result"
    }
   ],
   "source": [
    "testdebug1()"
   ]
  },
  {
   "cell_type": "code",
   "execution_count": 3,
   "id": "5497fa88",
   "metadata": {},
   "outputs": [],
   "source": [
    "import even as e\n",
    "import logging as lg\n",
    "import os"
   ]
  },
  {
   "cell_type": "code",
   "execution_count": 5,
   "id": "2c54215d",
   "metadata": {},
   "outputs": [
    {
     "name": "stdout",
     "output_type": "stream",
     "text": [
      "2\n",
      "4\n"
     ]
    }
   ],
   "source": [
    "e.even(5)"
   ]
  },
  {
   "cell_type": "code",
   "execution_count": null,
   "id": "34bced66",
   "metadata": {},
   "outputs": [],
   "source": []
  },
  {
   "cell_type": "code",
   "execution_count": 7,
   "id": "756f662e",
   "metadata": {},
   "outputs": [],
   "source": [
    "lg.basicConfig(filename='moduleEven_Number.log',level=lg.DEBUG,format = '%(asctime)s -%(name)s -%(levelname)s -%(message)s')"
   ]
  },
  {
   "cell_type": "code",
   "execution_count": 14,
   "id": "4abf2073",
   "metadata": {},
   "outputs": [],
   "source": [
    "console_log =  lg.StreamHandler()\n",
    "console_log.setLevel(lg.ERROR)\n",
    "format = lg.Formatter('%(asctime)s -%(levelname)s -%(message)s')\n",
    "console_log.setFormatter(format)"
   ]
  },
  {
   "cell_type": "code",
   "execution_count": 15,
   "id": "e3015947",
   "metadata": {},
   "outputs": [
    {
     "name": "stdout",
     "output_type": "stream",
     "text": [
      "Enter the numberkjnkljn\n"
     ]
    }
   ],
   "source": [
    "\n",
    "try:\n",
    "    user_input =  int(input(\"Enter the number\"))\n",
    "    e.even(user_input)\n",
    "except Exception as e:\n",
    "    lg.error(e)\n",
    "    "
   ]
  },
  {
   "cell_type": "code",
   "execution_count": null,
   "id": "24281aaa",
   "metadata": {},
   "outputs": [],
   "source": []
  },
  {
   "cell_type": "code",
   "execution_count": null,
   "id": "d0f1cc4f",
   "metadata": {},
   "outputs": [],
   "source": []
  }
 ],
 "metadata": {
  "kernelspec": {
   "display_name": "Python 3 (ipykernel)",
   "language": "python",
   "name": "python3"
  },
  "language_info": {
   "codemirror_mode": {
    "name": "ipython",
    "version": 3
   },
   "file_extension": ".py",
   "mimetype": "text/x-python",
   "name": "python",
   "nbconvert_exporter": "python",
   "pygments_lexer": "ipython3",
   "version": "3.9.7"
  }
 },
 "nbformat": 4,
 "nbformat_minor": 5
}
